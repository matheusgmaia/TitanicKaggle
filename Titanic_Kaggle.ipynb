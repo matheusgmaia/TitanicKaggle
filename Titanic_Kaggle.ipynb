{
  "nbformat": 4,
  "nbformat_minor": 0,
  "metadata": {
    "colab": {
      "name": "Titanic-Kaggle.ipynb",
      "provenance": [],
      "collapsed_sections": [],
      "toc_visible": true
    },
    "kernelspec": {
      "name": "python3",
      "display_name": "Python 3"
    },
    "language_info": {
      "name": "python"
    }
  },
  "cells": [
    {
      "cell_type": "markdown",
      "source": [
        "# Titanic Kaggle Dataset - Matheus Maia\n",
        "\n",
        "Análise do dataset Titanic do Kaggle para seleção.\n",
        "\n",
        "\n",
        "*   Setup - Imports do Módulos e Download dos Dados\n",
        "*   EDA - Exploração\n",
        "*   Feature Engineering - Preparar dados\n",
        "*   Explorar Modelos\n",
        "*   Aperfeiçoar Modelo\n",
        "*   Apresentar Solução\n",
        "\n"
      ],
      "metadata": {
        "id": "NAw90s6nCL1j"
      }
    },
    {
      "cell_type": "markdown",
      "source": [
        "## Setup\n",
        "Imports necessários. Carregar dataset."
      ],
      "metadata": {
        "id": "HAkA83nWD0K4"
      }
    },
    {
      "cell_type": "code",
      "source": [
        "#Necessário matplotlib mais atualizado\n",
        "!pip install matplotlib==3.5.1 "
      ],
      "metadata": {
        "colab": {
          "base_uri": "https://localhost:8080/"
        },
        "id": "alutszHZxtm0",
        "outputId": "ee2a587a-aa36-4525-efdd-ef4e8cb715db"
      },
      "execution_count": null,
      "outputs": [
        {
          "output_type": "stream",
          "name": "stdout",
          "text": [
            "Requirement already satisfied: matplotlib==3.5.1 in /usr/local/lib/python3.7/dist-packages (3.5.1)\n",
            "Requirement already satisfied: kiwisolver>=1.0.1 in /usr/local/lib/python3.7/dist-packages (from matplotlib==3.5.1) (1.3.2)\n",
            "Requirement already satisfied: cycler>=0.10 in /usr/local/lib/python3.7/dist-packages (from matplotlib==3.5.1) (0.11.0)\n",
            "Requirement already satisfied: fonttools>=4.22.0 in /usr/local/lib/python3.7/dist-packages (from matplotlib==3.5.1) (4.29.1)\n",
            "Requirement already satisfied: numpy>=1.17 in /usr/local/lib/python3.7/dist-packages (from matplotlib==3.5.1) (1.19.5)\n",
            "Requirement already satisfied: packaging>=20.0 in /usr/local/lib/python3.7/dist-packages (from matplotlib==3.5.1) (21.3)\n",
            "Requirement already satisfied: pillow>=6.2.0 in /usr/local/lib/python3.7/dist-packages (from matplotlib==3.5.1) (7.1.2)\n",
            "Requirement already satisfied: pyparsing>=2.2.1 in /usr/local/lib/python3.7/dist-packages (from matplotlib==3.5.1) (3.0.7)\n",
            "Requirement already satisfied: python-dateutil>=2.7 in /usr/local/lib/python3.7/dist-packages (from matplotlib==3.5.1) (2.8.2)\n",
            "Requirement already satisfied: six>=1.5 in /usr/local/lib/python3.7/dist-packages (from python-dateutil>=2.7->matplotlib==3.5.1) (1.15.0)\n"
          ]
        }
      ]
    },
    {
      "cell_type": "code",
      "source": [
        "%matplotlib inline\n",
        "import pandas as pd\n",
        "import numpy as np\n",
        "import matplotlib\n",
        "import matplotlib.pyplot as plt\n",
        "import string\n",
        "\n",
        "#SKlearn\n",
        "from sklearn.pipeline import Pipeline\n",
        "from sklearn.preprocessing import OneHotEncoder, StandardScaler, MinMaxScaler\n",
        "from sklearn.impute import SimpleImputer\n",
        "from sklearn.compose import ColumnTransformer\n",
        "from sklearn.base import BaseEstimator, TransformerMixin\n",
        "from sklearn.model_selection import cross_val_score, GridSearchCV, StratifiedShuffleSplit, RandomizedSearchCV\n",
        "from sklearn.metrics import confusion_matrix, classification_report\n",
        "\n",
        "#Modelos\n",
        "from sklearn.linear_model import LogisticRegression\n",
        "from sklearn.neighbors import KNeighborsClassifier\n",
        "from sklearn.ensemble import RandomForestClassifier\n",
        "from sklearn.tree import DecisionTreeClassifier\n",
        "from sklearn import svm\n",
        "from xgboost import XGBClassifier\n",
        "\n",
        "assert(matplotlib.__version__ == '3.5.1')"
      ],
      "metadata": {
        "id": "2XYcU_cKEBgP"
      },
      "execution_count": null,
      "outputs": []
    },
    {
      "cell_type": "code",
      "execution_count": null,
      "metadata": {
        "id": "Ha5usLmO9c4e"
      },
      "outputs": [],
      "source": [
        "URL_TRAIN = 'https://drive.google.com/uc?id=159szIgtw6IPs08w9qFp0QZZi5S6_Qnxh'\n",
        "URL_TEST = 'https://drive.google.com/uc?id=14wGfw4pK6z54RR0kVC3yI9XpG4h85E-u'\n",
        "train_df_kaggle = pd.read_csv(URL_TRAIN)\n",
        "test_df_kaggle = pd.read_csv(URL_TEST)"
      ]
    },
    {
      "cell_type": "markdown",
      "source": [
        "## EDA - Exploração\n",
        "Tipo, nulos, ausentes, viz e corr."
      ],
      "metadata": {
        "id": "_ogsgFxrFlv9"
      }
    },
    {
      "cell_type": "code",
      "source": [
        "vis_df = train_df_kaggle.copy()"
      ],
      "metadata": {
        "id": "BhbcZKyOdxpY"
      },
      "execution_count": null,
      "outputs": []
    },
    {
      "cell_type": "code",
      "source": [
        "vis_df.head()"
      ],
      "metadata": {
        "colab": {
          "base_uri": "https://localhost:8080/",
          "height": 548
        },
        "id": "0V-IfyguHahj",
        "outputId": "d301b421-29ce-4a47-a490-0219b35ad9a3"
      },
      "execution_count": null,
      "outputs": [
        {
          "output_type": "execute_result",
          "data": {
            "text/html": [
              "\n",
              "  <div id=\"df-dccd2985-752e-42f1-94e1-fe6dd813a839\">\n",
              "    <div class=\"colab-df-container\">\n",
              "      <div>\n",
              "<style scoped>\n",
              "    .dataframe tbody tr th:only-of-type {\n",
              "        vertical-align: middle;\n",
              "    }\n",
              "\n",
              "    .dataframe tbody tr th {\n",
              "        vertical-align: top;\n",
              "    }\n",
              "\n",
              "    .dataframe thead th {\n",
              "        text-align: right;\n",
              "    }\n",
              "</style>\n",
              "<table border=\"1\" class=\"dataframe\">\n",
              "  <thead>\n",
              "    <tr style=\"text-align: right;\">\n",
              "      <th></th>\n",
              "      <th>PassengerId</th>\n",
              "      <th>Survived</th>\n",
              "      <th>Pclass</th>\n",
              "      <th>Name</th>\n",
              "      <th>Sex</th>\n",
              "      <th>Age</th>\n",
              "      <th>SibSp</th>\n",
              "      <th>Parch</th>\n",
              "      <th>Ticket</th>\n",
              "      <th>Fare</th>\n",
              "      <th>Cabin</th>\n",
              "      <th>Embarked</th>\n",
              "    </tr>\n",
              "  </thead>\n",
              "  <tbody>\n",
              "    <tr>\n",
              "      <th>0</th>\n",
              "      <td>1</td>\n",
              "      <td>0</td>\n",
              "      <td>3</td>\n",
              "      <td>Braund, Mr. Owen Harris</td>\n",
              "      <td>male</td>\n",
              "      <td>22.0</td>\n",
              "      <td>1</td>\n",
              "      <td>0</td>\n",
              "      <td>A/5 21171</td>\n",
              "      <td>7.2500</td>\n",
              "      <td>NaN</td>\n",
              "      <td>S</td>\n",
              "    </tr>\n",
              "    <tr>\n",
              "      <th>1</th>\n",
              "      <td>2</td>\n",
              "      <td>1</td>\n",
              "      <td>1</td>\n",
              "      <td>Cumings, Mrs. John Bradley (Florence Briggs Th...</td>\n",
              "      <td>female</td>\n",
              "      <td>38.0</td>\n",
              "      <td>1</td>\n",
              "      <td>0</td>\n",
              "      <td>PC 17599</td>\n",
              "      <td>71.2833</td>\n",
              "      <td>C85</td>\n",
              "      <td>C</td>\n",
              "    </tr>\n",
              "    <tr>\n",
              "      <th>2</th>\n",
              "      <td>3</td>\n",
              "      <td>1</td>\n",
              "      <td>3</td>\n",
              "      <td>Heikkinen, Miss. Laina</td>\n",
              "      <td>female</td>\n",
              "      <td>26.0</td>\n",
              "      <td>0</td>\n",
              "      <td>0</td>\n",
              "      <td>STON/O2. 3101282</td>\n",
              "      <td>7.9250</td>\n",
              "      <td>NaN</td>\n",
              "      <td>S</td>\n",
              "    </tr>\n",
              "    <tr>\n",
              "      <th>3</th>\n",
              "      <td>4</td>\n",
              "      <td>1</td>\n",
              "      <td>1</td>\n",
              "      <td>Futrelle, Mrs. Jacques Heath (Lily May Peel)</td>\n",
              "      <td>female</td>\n",
              "      <td>35.0</td>\n",
              "      <td>1</td>\n",
              "      <td>0</td>\n",
              "      <td>113803</td>\n",
              "      <td>53.1000</td>\n",
              "      <td>C123</td>\n",
              "      <td>S</td>\n",
              "    </tr>\n",
              "    <tr>\n",
              "      <th>4</th>\n",
              "      <td>5</td>\n",
              "      <td>0</td>\n",
              "      <td>3</td>\n",
              "      <td>Allen, Mr. William Henry</td>\n",
              "      <td>male</td>\n",
              "      <td>35.0</td>\n",
              "      <td>0</td>\n",
              "      <td>0</td>\n",
              "      <td>373450</td>\n",
              "      <td>8.0500</td>\n",
              "      <td>NaN</td>\n",
              "      <td>S</td>\n",
              "    </tr>\n",
              "  </tbody>\n",
              "</table>\n",
              "</div>\n",
              "      <button class=\"colab-df-convert\" onclick=\"convertToInteractive('df-dccd2985-752e-42f1-94e1-fe6dd813a839')\"\n",
              "              title=\"Convert this dataframe to an interactive table.\"\n",
              "              style=\"display:none;\">\n",
              "        \n",
              "  <svg xmlns=\"http://www.w3.org/2000/svg\" height=\"24px\"viewBox=\"0 0 24 24\"\n",
              "       width=\"24px\">\n",
              "    <path d=\"M0 0h24v24H0V0z\" fill=\"none\"/>\n",
              "    <path d=\"M18.56 5.44l.94 2.06.94-2.06 2.06-.94-2.06-.94-.94-2.06-.94 2.06-2.06.94zm-11 1L8.5 8.5l.94-2.06 2.06-.94-2.06-.94L8.5 2.5l-.94 2.06-2.06.94zm10 10l.94 2.06.94-2.06 2.06-.94-2.06-.94-.94-2.06-.94 2.06-2.06.94z\"/><path d=\"M17.41 7.96l-1.37-1.37c-.4-.4-.92-.59-1.43-.59-.52 0-1.04.2-1.43.59L10.3 9.45l-7.72 7.72c-.78.78-.78 2.05 0 2.83L4 21.41c.39.39.9.59 1.41.59.51 0 1.02-.2 1.41-.59l7.78-7.78 2.81-2.81c.8-.78.8-2.07 0-2.86zM5.41 20L4 18.59l7.72-7.72 1.47 1.35L5.41 20z\"/>\n",
              "  </svg>\n",
              "      </button>\n",
              "      \n",
              "  <style>\n",
              "    .colab-df-container {\n",
              "      display:flex;\n",
              "      flex-wrap:wrap;\n",
              "      gap: 12px;\n",
              "    }\n",
              "\n",
              "    .colab-df-convert {\n",
              "      background-color: #E8F0FE;\n",
              "      border: none;\n",
              "      border-radius: 50%;\n",
              "      cursor: pointer;\n",
              "      display: none;\n",
              "      fill: #1967D2;\n",
              "      height: 32px;\n",
              "      padding: 0 0 0 0;\n",
              "      width: 32px;\n",
              "    }\n",
              "\n",
              "    .colab-df-convert:hover {\n",
              "      background-color: #E2EBFA;\n",
              "      box-shadow: 0px 1px 2px rgba(60, 64, 67, 0.3), 0px 1px 3px 1px rgba(60, 64, 67, 0.15);\n",
              "      fill: #174EA6;\n",
              "    }\n",
              "\n",
              "    [theme=dark] .colab-df-convert {\n",
              "      background-color: #3B4455;\n",
              "      fill: #D2E3FC;\n",
              "    }\n",
              "\n",
              "    [theme=dark] .colab-df-convert:hover {\n",
              "      background-color: #434B5C;\n",
              "      box-shadow: 0px 1px 3px 1px rgba(0, 0, 0, 0.15);\n",
              "      filter: drop-shadow(0px 1px 2px rgba(0, 0, 0, 0.3));\n",
              "      fill: #FFFFFF;\n",
              "    }\n",
              "  </style>\n",
              "\n",
              "      <script>\n",
              "        const buttonEl =\n",
              "          document.querySelector('#df-dccd2985-752e-42f1-94e1-fe6dd813a839 button.colab-df-convert');\n",
              "        buttonEl.style.display =\n",
              "          google.colab.kernel.accessAllowed ? 'block' : 'none';\n",
              "\n",
              "        async function convertToInteractive(key) {\n",
              "          const element = document.querySelector('#df-dccd2985-752e-42f1-94e1-fe6dd813a839');\n",
              "          const dataTable =\n",
              "            await google.colab.kernel.invokeFunction('convertToInteractive',\n",
              "                                                     [key], {});\n",
              "          if (!dataTable) return;\n",
              "\n",
              "          const docLinkHtml = 'Like what you see? Visit the ' +\n",
              "            '<a target=\"_blank\" href=https://colab.research.google.com/notebooks/data_table.ipynb>data table notebook</a>'\n",
              "            + ' to learn more about interactive tables.';\n",
              "          element.innerHTML = '';\n",
              "          dataTable['output_type'] = 'display_data';\n",
              "          await google.colab.output.renderOutput(dataTable, element);\n",
              "          const docLink = document.createElement('div');\n",
              "          docLink.innerHTML = docLinkHtml;\n",
              "          element.appendChild(docLink);\n",
              "        }\n",
              "      </script>\n",
              "    </div>\n",
              "  </div>\n",
              "  "
            ],
            "text/plain": [
              "   PassengerId  Survived  Pclass  ...     Fare Cabin  Embarked\n",
              "0            1         0       3  ...   7.2500   NaN         S\n",
              "1            2         1       1  ...  71.2833   C85         C\n",
              "2            3         1       3  ...   7.9250   NaN         S\n",
              "3            4         1       1  ...  53.1000  C123         S\n",
              "4            5         0       3  ...   8.0500   NaN         S\n",
              "\n",
              "[5 rows x 12 columns]"
            ]
          },
          "metadata": {},
          "execution_count": 5
        }
      ]
    },
    {
      "cell_type": "code",
      "source": [
        "vis_df.info()"
      ],
      "metadata": {
        "colab": {
          "base_uri": "https://localhost:8080/"
        },
        "id": "jpvA1ez9FlN3",
        "outputId": "6394c75d-c1a1-4063-bdc4-1a91d98b7bd9"
      },
      "execution_count": null,
      "outputs": [
        {
          "output_type": "stream",
          "name": "stdout",
          "text": [
            "<class 'pandas.core.frame.DataFrame'>\n",
            "RangeIndex: 891 entries, 0 to 890\n",
            "Data columns (total 12 columns):\n",
            " #   Column       Non-Null Count  Dtype  \n",
            "---  ------       --------------  -----  \n",
            " 0   PassengerId  891 non-null    int64  \n",
            " 1   Survived     891 non-null    int64  \n",
            " 2   Pclass       891 non-null    int64  \n",
            " 3   Name         891 non-null    object \n",
            " 4   Sex          891 non-null    object \n",
            " 5   Age          714 non-null    float64\n",
            " 6   SibSp        891 non-null    int64  \n",
            " 7   Parch        891 non-null    int64  \n",
            " 8   Ticket       891 non-null    object \n",
            " 9   Fare         891 non-null    float64\n",
            " 10  Cabin        204 non-null    object \n",
            " 11  Embarked     889 non-null    object \n",
            "dtypes: float64(2), int64(5), object(5)\n",
            "memory usage: 83.7+ KB\n"
          ]
        }
      ]
    },
    {
      "cell_type": "code",
      "source": [
        "vis_df.describe()"
      ],
      "metadata": {
        "colab": {
          "base_uri": "https://localhost:8080/",
          "height": 344
        },
        "id": "iXIyu0MDGB9O",
        "outputId": "73389591-0d8c-4b9d-f953-03f2d965432b"
      },
      "execution_count": null,
      "outputs": [
        {
          "output_type": "execute_result",
          "data": {
            "text/html": [
              "\n",
              "  <div id=\"df-74f6dc00-2542-4b91-bcf2-87d47062b7cc\">\n",
              "    <div class=\"colab-df-container\">\n",
              "      <div>\n",
              "<style scoped>\n",
              "    .dataframe tbody tr th:only-of-type {\n",
              "        vertical-align: middle;\n",
              "    }\n",
              "\n",
              "    .dataframe tbody tr th {\n",
              "        vertical-align: top;\n",
              "    }\n",
              "\n",
              "    .dataframe thead th {\n",
              "        text-align: right;\n",
              "    }\n",
              "</style>\n",
              "<table border=\"1\" class=\"dataframe\">\n",
              "  <thead>\n",
              "    <tr style=\"text-align: right;\">\n",
              "      <th></th>\n",
              "      <th>PassengerId</th>\n",
              "      <th>Survived</th>\n",
              "      <th>Pclass</th>\n",
              "      <th>Age</th>\n",
              "      <th>SibSp</th>\n",
              "      <th>Parch</th>\n",
              "      <th>Fare</th>\n",
              "    </tr>\n",
              "  </thead>\n",
              "  <tbody>\n",
              "    <tr>\n",
              "      <th>count</th>\n",
              "      <td>891.000000</td>\n",
              "      <td>891.000000</td>\n",
              "      <td>891.000000</td>\n",
              "      <td>714.000000</td>\n",
              "      <td>891.000000</td>\n",
              "      <td>891.000000</td>\n",
              "      <td>891.000000</td>\n",
              "    </tr>\n",
              "    <tr>\n",
              "      <th>mean</th>\n",
              "      <td>446.000000</td>\n",
              "      <td>0.383838</td>\n",
              "      <td>2.308642</td>\n",
              "      <td>29.699118</td>\n",
              "      <td>0.523008</td>\n",
              "      <td>0.381594</td>\n",
              "      <td>32.204208</td>\n",
              "    </tr>\n",
              "    <tr>\n",
              "      <th>std</th>\n",
              "      <td>257.353842</td>\n",
              "      <td>0.486592</td>\n",
              "      <td>0.836071</td>\n",
              "      <td>14.526497</td>\n",
              "      <td>1.102743</td>\n",
              "      <td>0.806057</td>\n",
              "      <td>49.693429</td>\n",
              "    </tr>\n",
              "    <tr>\n",
              "      <th>min</th>\n",
              "      <td>1.000000</td>\n",
              "      <td>0.000000</td>\n",
              "      <td>1.000000</td>\n",
              "      <td>0.420000</td>\n",
              "      <td>0.000000</td>\n",
              "      <td>0.000000</td>\n",
              "      <td>0.000000</td>\n",
              "    </tr>\n",
              "    <tr>\n",
              "      <th>25%</th>\n",
              "      <td>223.500000</td>\n",
              "      <td>0.000000</td>\n",
              "      <td>2.000000</td>\n",
              "      <td>20.125000</td>\n",
              "      <td>0.000000</td>\n",
              "      <td>0.000000</td>\n",
              "      <td>7.910400</td>\n",
              "    </tr>\n",
              "    <tr>\n",
              "      <th>50%</th>\n",
              "      <td>446.000000</td>\n",
              "      <td>0.000000</td>\n",
              "      <td>3.000000</td>\n",
              "      <td>28.000000</td>\n",
              "      <td>0.000000</td>\n",
              "      <td>0.000000</td>\n",
              "      <td>14.454200</td>\n",
              "    </tr>\n",
              "    <tr>\n",
              "      <th>75%</th>\n",
              "      <td>668.500000</td>\n",
              "      <td>1.000000</td>\n",
              "      <td>3.000000</td>\n",
              "      <td>38.000000</td>\n",
              "      <td>1.000000</td>\n",
              "      <td>0.000000</td>\n",
              "      <td>31.000000</td>\n",
              "    </tr>\n",
              "    <tr>\n",
              "      <th>max</th>\n",
              "      <td>891.000000</td>\n",
              "      <td>1.000000</td>\n",
              "      <td>3.000000</td>\n",
              "      <td>80.000000</td>\n",
              "      <td>8.000000</td>\n",
              "      <td>6.000000</td>\n",
              "      <td>512.329200</td>\n",
              "    </tr>\n",
              "  </tbody>\n",
              "</table>\n",
              "</div>\n",
              "      <button class=\"colab-df-convert\" onclick=\"convertToInteractive('df-74f6dc00-2542-4b91-bcf2-87d47062b7cc')\"\n",
              "              title=\"Convert this dataframe to an interactive table.\"\n",
              "              style=\"display:none;\">\n",
              "        \n",
              "  <svg xmlns=\"http://www.w3.org/2000/svg\" height=\"24px\"viewBox=\"0 0 24 24\"\n",
              "       width=\"24px\">\n",
              "    <path d=\"M0 0h24v24H0V0z\" fill=\"none\"/>\n",
              "    <path d=\"M18.56 5.44l.94 2.06.94-2.06 2.06-.94-2.06-.94-.94-2.06-.94 2.06-2.06.94zm-11 1L8.5 8.5l.94-2.06 2.06-.94-2.06-.94L8.5 2.5l-.94 2.06-2.06.94zm10 10l.94 2.06.94-2.06 2.06-.94-2.06-.94-.94-2.06-.94 2.06-2.06.94z\"/><path d=\"M17.41 7.96l-1.37-1.37c-.4-.4-.92-.59-1.43-.59-.52 0-1.04.2-1.43.59L10.3 9.45l-7.72 7.72c-.78.78-.78 2.05 0 2.83L4 21.41c.39.39.9.59 1.41.59.51 0 1.02-.2 1.41-.59l7.78-7.78 2.81-2.81c.8-.78.8-2.07 0-2.86zM5.41 20L4 18.59l7.72-7.72 1.47 1.35L5.41 20z\"/>\n",
              "  </svg>\n",
              "      </button>\n",
              "      \n",
              "  <style>\n",
              "    .colab-df-container {\n",
              "      display:flex;\n",
              "      flex-wrap:wrap;\n",
              "      gap: 12px;\n",
              "    }\n",
              "\n",
              "    .colab-df-convert {\n",
              "      background-color: #E8F0FE;\n",
              "      border: none;\n",
              "      border-radius: 50%;\n",
              "      cursor: pointer;\n",
              "      display: none;\n",
              "      fill: #1967D2;\n",
              "      height: 32px;\n",
              "      padding: 0 0 0 0;\n",
              "      width: 32px;\n",
              "    }\n",
              "\n",
              "    .colab-df-convert:hover {\n",
              "      background-color: #E2EBFA;\n",
              "      box-shadow: 0px 1px 2px rgba(60, 64, 67, 0.3), 0px 1px 3px 1px rgba(60, 64, 67, 0.15);\n",
              "      fill: #174EA6;\n",
              "    }\n",
              "\n",
              "    [theme=dark] .colab-df-convert {\n",
              "      background-color: #3B4455;\n",
              "      fill: #D2E3FC;\n",
              "    }\n",
              "\n",
              "    [theme=dark] .colab-df-convert:hover {\n",
              "      background-color: #434B5C;\n",
              "      box-shadow: 0px 1px 3px 1px rgba(0, 0, 0, 0.15);\n",
              "      filter: drop-shadow(0px 1px 2px rgba(0, 0, 0, 0.3));\n",
              "      fill: #FFFFFF;\n",
              "    }\n",
              "  </style>\n",
              "\n",
              "      <script>\n",
              "        const buttonEl =\n",
              "          document.querySelector('#df-74f6dc00-2542-4b91-bcf2-87d47062b7cc button.colab-df-convert');\n",
              "        buttonEl.style.display =\n",
              "          google.colab.kernel.accessAllowed ? 'block' : 'none';\n",
              "\n",
              "        async function convertToInteractive(key) {\n",
              "          const element = document.querySelector('#df-74f6dc00-2542-4b91-bcf2-87d47062b7cc');\n",
              "          const dataTable =\n",
              "            await google.colab.kernel.invokeFunction('convertToInteractive',\n",
              "                                                     [key], {});\n",
              "          if (!dataTable) return;\n",
              "\n",
              "          const docLinkHtml = 'Like what you see? Visit the ' +\n",
              "            '<a target=\"_blank\" href=https://colab.research.google.com/notebooks/data_table.ipynb>data table notebook</a>'\n",
              "            + ' to learn more about interactive tables.';\n",
              "          element.innerHTML = '';\n",
              "          dataTable['output_type'] = 'display_data';\n",
              "          await google.colab.output.renderOutput(dataTable, element);\n",
              "          const docLink = document.createElement('div');\n",
              "          docLink.innerHTML = docLinkHtml;\n",
              "          element.appendChild(docLink);\n",
              "        }\n",
              "      </script>\n",
              "    </div>\n",
              "  </div>\n",
              "  "
            ],
            "text/plain": [
              "       PassengerId    Survived      Pclass  ...       SibSp       Parch        Fare\n",
              "count   891.000000  891.000000  891.000000  ...  891.000000  891.000000  891.000000\n",
              "mean    446.000000    0.383838    2.308642  ...    0.523008    0.381594   32.204208\n",
              "std     257.353842    0.486592    0.836071  ...    1.102743    0.806057   49.693429\n",
              "min       1.000000    0.000000    1.000000  ...    0.000000    0.000000    0.000000\n",
              "25%     223.500000    0.000000    2.000000  ...    0.000000    0.000000    7.910400\n",
              "50%     446.000000    0.000000    3.000000  ...    0.000000    0.000000   14.454200\n",
              "75%     668.500000    1.000000    3.000000  ...    1.000000    0.000000   31.000000\n",
              "max     891.000000    1.000000    3.000000  ...    8.000000    6.000000  512.329200\n",
              "\n",
              "[8 rows x 7 columns]"
            ]
          },
          "metadata": {},
          "execution_count": 7
        }
      ]
    },
    {
      "cell_type": "code",
      "source": [
        "vis_df.describe(include=[object]) "
      ],
      "metadata": {
        "colab": {
          "base_uri": "https://localhost:8080/",
          "height": 175
        },
        "id": "SesRHu5OPdHw",
        "outputId": "7ba6ebb5-973c-40f5-86ef-08b32c714ea3"
      },
      "execution_count": null,
      "outputs": [
        {
          "output_type": "execute_result",
          "data": {
            "text/html": [
              "\n",
              "  <div id=\"df-94937347-24a9-45fa-9858-3798b47294ed\">\n",
              "    <div class=\"colab-df-container\">\n",
              "      <div>\n",
              "<style scoped>\n",
              "    .dataframe tbody tr th:only-of-type {\n",
              "        vertical-align: middle;\n",
              "    }\n",
              "\n",
              "    .dataframe tbody tr th {\n",
              "        vertical-align: top;\n",
              "    }\n",
              "\n",
              "    .dataframe thead th {\n",
              "        text-align: right;\n",
              "    }\n",
              "</style>\n",
              "<table border=\"1\" class=\"dataframe\">\n",
              "  <thead>\n",
              "    <tr style=\"text-align: right;\">\n",
              "      <th></th>\n",
              "      <th>Name</th>\n",
              "      <th>Sex</th>\n",
              "      <th>Ticket</th>\n",
              "      <th>Cabin</th>\n",
              "      <th>Embarked</th>\n",
              "    </tr>\n",
              "  </thead>\n",
              "  <tbody>\n",
              "    <tr>\n",
              "      <th>count</th>\n",
              "      <td>891</td>\n",
              "      <td>891</td>\n",
              "      <td>891</td>\n",
              "      <td>204</td>\n",
              "      <td>889</td>\n",
              "    </tr>\n",
              "    <tr>\n",
              "      <th>unique</th>\n",
              "      <td>891</td>\n",
              "      <td>2</td>\n",
              "      <td>681</td>\n",
              "      <td>147</td>\n",
              "      <td>3</td>\n",
              "    </tr>\n",
              "    <tr>\n",
              "      <th>top</th>\n",
              "      <td>Braund, Mr. Owen Harris</td>\n",
              "      <td>male</td>\n",
              "      <td>347082</td>\n",
              "      <td>B96 B98</td>\n",
              "      <td>S</td>\n",
              "    </tr>\n",
              "    <tr>\n",
              "      <th>freq</th>\n",
              "      <td>1</td>\n",
              "      <td>577</td>\n",
              "      <td>7</td>\n",
              "      <td>4</td>\n",
              "      <td>644</td>\n",
              "    </tr>\n",
              "  </tbody>\n",
              "</table>\n",
              "</div>\n",
              "      <button class=\"colab-df-convert\" onclick=\"convertToInteractive('df-94937347-24a9-45fa-9858-3798b47294ed')\"\n",
              "              title=\"Convert this dataframe to an interactive table.\"\n",
              "              style=\"display:none;\">\n",
              "        \n",
              "  <svg xmlns=\"http://www.w3.org/2000/svg\" height=\"24px\"viewBox=\"0 0 24 24\"\n",
              "       width=\"24px\">\n",
              "    <path d=\"M0 0h24v24H0V0z\" fill=\"none\"/>\n",
              "    <path d=\"M18.56 5.44l.94 2.06.94-2.06 2.06-.94-2.06-.94-.94-2.06-.94 2.06-2.06.94zm-11 1L8.5 8.5l.94-2.06 2.06-.94-2.06-.94L8.5 2.5l-.94 2.06-2.06.94zm10 10l.94 2.06.94-2.06 2.06-.94-2.06-.94-.94-2.06-.94 2.06-2.06.94z\"/><path d=\"M17.41 7.96l-1.37-1.37c-.4-.4-.92-.59-1.43-.59-.52 0-1.04.2-1.43.59L10.3 9.45l-7.72 7.72c-.78.78-.78 2.05 0 2.83L4 21.41c.39.39.9.59 1.41.59.51 0 1.02-.2 1.41-.59l7.78-7.78 2.81-2.81c.8-.78.8-2.07 0-2.86zM5.41 20L4 18.59l7.72-7.72 1.47 1.35L5.41 20z\"/>\n",
              "  </svg>\n",
              "      </button>\n",
              "      \n",
              "  <style>\n",
              "    .colab-df-container {\n",
              "      display:flex;\n",
              "      flex-wrap:wrap;\n",
              "      gap: 12px;\n",
              "    }\n",
              "\n",
              "    .colab-df-convert {\n",
              "      background-color: #E8F0FE;\n",
              "      border: none;\n",
              "      border-radius: 50%;\n",
              "      cursor: pointer;\n",
              "      display: none;\n",
              "      fill: #1967D2;\n",
              "      height: 32px;\n",
              "      padding: 0 0 0 0;\n",
              "      width: 32px;\n",
              "    }\n",
              "\n",
              "    .colab-df-convert:hover {\n",
              "      background-color: #E2EBFA;\n",
              "      box-shadow: 0px 1px 2px rgba(60, 64, 67, 0.3), 0px 1px 3px 1px rgba(60, 64, 67, 0.15);\n",
              "      fill: #174EA6;\n",
              "    }\n",
              "\n",
              "    [theme=dark] .colab-df-convert {\n",
              "      background-color: #3B4455;\n",
              "      fill: #D2E3FC;\n",
              "    }\n",
              "\n",
              "    [theme=dark] .colab-df-convert:hover {\n",
              "      background-color: #434B5C;\n",
              "      box-shadow: 0px 1px 3px 1px rgba(0, 0, 0, 0.15);\n",
              "      filter: drop-shadow(0px 1px 2px rgba(0, 0, 0, 0.3));\n",
              "      fill: #FFFFFF;\n",
              "    }\n",
              "  </style>\n",
              "\n",
              "      <script>\n",
              "        const buttonEl =\n",
              "          document.querySelector('#df-94937347-24a9-45fa-9858-3798b47294ed button.colab-df-convert');\n",
              "        buttonEl.style.display =\n",
              "          google.colab.kernel.accessAllowed ? 'block' : 'none';\n",
              "\n",
              "        async function convertToInteractive(key) {\n",
              "          const element = document.querySelector('#df-94937347-24a9-45fa-9858-3798b47294ed');\n",
              "          const dataTable =\n",
              "            await google.colab.kernel.invokeFunction('convertToInteractive',\n",
              "                                                     [key], {});\n",
              "          if (!dataTable) return;\n",
              "\n",
              "          const docLinkHtml = 'Like what you see? Visit the ' +\n",
              "            '<a target=\"_blank\" href=https://colab.research.google.com/notebooks/data_table.ipynb>data table notebook</a>'\n",
              "            + ' to learn more about interactive tables.';\n",
              "          element.innerHTML = '';\n",
              "          dataTable['output_type'] = 'display_data';\n",
              "          await google.colab.output.renderOutput(dataTable, element);\n",
              "          const docLink = document.createElement('div');\n",
              "          docLink.innerHTML = docLinkHtml;\n",
              "          element.appendChild(docLink);\n",
              "        }\n",
              "      </script>\n",
              "    </div>\n",
              "  </div>\n",
              "  "
            ],
            "text/plain": [
              "                           Name   Sex  Ticket    Cabin Embarked\n",
              "count                       891   891     891      204      889\n",
              "unique                      891     2     681      147        3\n",
              "top     Braund, Mr. Owen Harris  male  347082  B96 B98        S\n",
              "freq                          1   577       7        4      644"
            ]
          },
          "metadata": {},
          "execution_count": 8
        }
      ]
    },
    {
      "cell_type": "code",
      "source": [
        "#Colunas com poucos distinct\n",
        "coluns_hist = [\"Sex\", \"Pclass\", \"SibSp\", \"Parch\", \"Embarked\"]\n",
        "\n",
        "fig, axs = plt.subplots(len(coluns_hist), 1, figsize=(8,20))\n",
        "\n",
        "#Para cada coluna\n",
        "for i, c in enumerate(coluns_hist):\n",
        "  #Contar survived e n_survived para coluna\n",
        "  n_survided = vis_df.loc[vis_df[\"Survived\"] == 0, c].value_counts(sort=False, dropna=False)\n",
        "  survided = vis_df.loc[vis_df[\"Survived\"] == 1, c].value_counts(sort=False, dropna=False)  \n",
        "  value_counts = pd.DataFrame([n_survided, survided])\n",
        "\n",
        "  #labels, x, width\n",
        "  columns = [str(col) for col in value_counts.columns]\n",
        "  x = np.arange(len(columns))\n",
        "  width = 0.35\n",
        "\n",
        "  n_survived_counts = value_counts.iloc[0].tolist()\n",
        "  survived_counts = value_counts.iloc[1].tolist()\n",
        "  \n",
        "  rects1 = axs[i].bar(x - width/2, survived_counts, width, label='Survived')\n",
        "  rects2 = axs[i].bar(x + width/2, n_survived_counts, width, label='N_Survived')\n",
        "  \n",
        "  axs[i].bar_label(rects1, padding=2)\n",
        "  axs[i].bar_label(rects2, padding=2)\n",
        "  axs[i].set_title(c)\n",
        "  axs[i].legend(loc =\"right\")\n",
        "  axs[i].set_xticks(x, labels=columns)\n",
        "  fig.tight_layout()"
      ],
      "metadata": {
        "colab": {
          "base_uri": "https://localhost:8080/",
          "height": 1000
        },
        "id": "_XdTewzgH_Yj",
        "outputId": "28a7f81e-728e-4622-9a98-d9543bdc0ca0"
      },
      "execution_count": null,
      "outputs": [
        {
          "output_type": "display_data",
          "data": {
            "image/png": "[encoded data removed]",
            "text/plain": [
              "<Figure size 576x1440 with 5 Axes>"
            ]
          },
          "metadata": {
            "needs_background": "light"
          }
        }
      ]
    },
    {
      "cell_type": "code",
      "source": [
        "#Idade\n",
        "vis_df[\"Age_cat\"] = pd.cut(vis_df[\"Age\"], bins=[0, 5, 14, 25, 45, 99], labels=[\"BB\", \"Cri\", \"Jov\", \"Adul\", \"MaisVelhos\"])\n",
        "n_survided = vis_df.loc[vis_df[\"Survived\"] == 0, \"Age_cat\"].value_counts(sort=False, dropna=False)\n",
        "survided = vis_df.loc[vis_df[\"Survived\"] == 1, \"Age_cat\"].value_counts(sort=False, dropna=False)\n",
        "value_counts = pd.DataFrame([n_survided, survided],index=[\"N_S\", \"S\"])\n",
        "value_counts"
      ],
      "metadata": {
        "id": "CrJaNUSYahP4",
        "colab": {
          "base_uri": "https://localhost:8080/",
          "height": 112
        },
        "outputId": "786798e9-8555-4dcb-cbd8-1d54f20d4196"
      },
      "execution_count": null,
      "outputs": [
        {
          "output_type": "execute_result",
          "data": {
            "text/html": [
              "\n",
              "  <div id=\"df-85de3335-731d-478e-a421-2f4ff419a7bf\">\n",
              "    <div class=\"colab-df-container\">\n",
              "      <div>\n",
              "<style scoped>\n",
              "    .dataframe tbody tr th:only-of-type {\n",
              "        vertical-align: middle;\n",
              "    }\n",
              "\n",
              "    .dataframe tbody tr th {\n",
              "        vertical-align: top;\n",
              "    }\n",
              "\n",
              "    .dataframe thead th {\n",
              "        text-align: right;\n",
              "    }\n",
              "</style>\n",
              "<table border=\"1\" class=\"dataframe\">\n",
              "  <thead>\n",
              "    <tr style=\"text-align: right;\">\n",
              "      <th></th>\n",
              "      <th>BB</th>\n",
              "      <th>Cri</th>\n",
              "      <th>Jov</th>\n",
              "      <th>Adul</th>\n",
              "      <th>MaisVelhos</th>\n",
              "      <th>NaN</th>\n",
              "    </tr>\n",
              "  </thead>\n",
              "  <tbody>\n",
              "    <tr>\n",
              "      <th>N_S</th>\n",
              "      <td>13</td>\n",
              "      <td>19</td>\n",
              "      <td>145</td>\n",
              "      <td>182</td>\n",
              "      <td>65</td>\n",
              "      <td>125</td>\n",
              "    </tr>\n",
              "    <tr>\n",
              "      <th>S</th>\n",
              "      <td>31</td>\n",
              "      <td>14</td>\n",
              "      <td>79</td>\n",
              "      <td>128</td>\n",
              "      <td>38</td>\n",
              "      <td>52</td>\n",
              "    </tr>\n",
              "  </tbody>\n",
              "</table>\n",
              "</div>\n",
              "      <button class=\"colab-df-convert\" onclick=\"convertToInteractive('df-85de3335-731d-478e-a421-2f4ff419a7bf')\"\n",
              "              title=\"Convert this dataframe to an interactive table.\"\n",
              "              style=\"display:none;\">\n",
              "        \n",
              "  <svg xmlns=\"http://www.w3.org/2000/svg\" height=\"24px\"viewBox=\"0 0 24 24\"\n",
              "       width=\"24px\">\n",
              "    <path d=\"M0 0h24v24H0V0z\" fill=\"none\"/>\n",
              "    <path d=\"M18.56 5.44l.94 2.06.94-2.06 2.06-.94-2.06-.94-.94-2.06-.94 2.06-2.06.94zm-11 1L8.5 8.5l.94-2.06 2.06-.94-2.06-.94L8.5 2.5l-.94 2.06-2.06.94zm10 10l.94 2.06.94-2.06 2.06-.94-2.06-.94-.94-2.06-.94 2.06-2.06.94z\"/><path d=\"M17.41 7.96l-1.37-1.37c-.4-.4-.92-.59-1.43-.59-.52 0-1.04.2-1.43.59L10.3 9.45l-7.72 7.72c-.78.78-.78 2.05 0 2.83L4 21.41c.39.39.9.59 1.41.59.51 0 1.02-.2 1.41-.59l7.78-7.78 2.81-2.81c.8-.78.8-2.07 0-2.86zM5.41 20L4 18.59l7.72-7.72 1.47 1.35L5.41 20z\"/>\n",
              "  </svg>\n",
              "      </button>\n",
              "      \n",
              "  <style>\n",
              "    .colab-df-container {\n",
              "      display:flex;\n",
              "      flex-wrap:wrap;\n",
              "      gap: 12px;\n",
              "    }\n",
              "\n",
              "    .colab-df-convert {\n",
              "      background-color: #E8F0FE;\n",
              "      border: none;\n",
              "      border-radius: 50%;\n",
              "      cursor: pointer;\n",
              "      display: none;\n",
              "      fill: #1967D2;\n",
              "      height: 32px;\n",
              "      padding: 0 0 0 0;\n",
              "      width: 32px;\n",
              "    }\n",
              "\n",
              "    .colab-df-convert:hover {\n",
              "      background-color: #E2EBFA;\n",
              "      box-shadow: 0px 1px 2px rgba(60, 64, 67, 0.3), 0px 1px 3px 1px rgba(60, 64, 67, 0.15);\n",
              "      fill: #174EA6;\n",
              "    }\n",
              "\n",
              "    [theme=dark] .colab-df-convert {\n",
              "      background-color: #3B4455;\n",
              "      fill: #D2E3FC;\n",
              "    }\n",
              "\n",
              "    [theme=dark] .colab-df-convert:hover {\n",
              "      background-color: #434B5C;\n",
              "      box-shadow: 0px 1px 3px 1px rgba(0, 0, 0, 0.15);\n",
              "      filter: drop-shadow(0px 1px 2px rgba(0, 0, 0, 0.3));\n",
              "      fill: #FFFFFF;\n",
              "    }\n",
              "  </style>\n",
              "\n",
              "      <script>\n",
              "        const buttonEl =\n",
              "          document.querySelector('#df-85de3335-731d-478e-a421-2f4ff419a7bf button.colab-df-convert');\n",
              "        buttonEl.style.display =\n",
              "          google.colab.kernel.accessAllowed ? 'block' : 'none';\n",
              "\n",
              "        async function convertToInteractive(key) {\n",
              "          const element = document.querySelector('#df-85de3335-731d-478e-a421-2f4ff419a7bf');\n",
              "          const dataTable =\n",
              "            await google.colab.kernel.invokeFunction('convertToInteractive',\n",
              "                                                     [key], {});\n",
              "          if (!dataTable) return;\n",
              "\n",
              "          const docLinkHtml = 'Like what you see? Visit the ' +\n",
              "            '<a target=\"_blank\" href=https://colab.research.google.com/notebooks/data_table.ipynb>data table notebook</a>'\n",
              "            + ' to learn more about interactive tables.';\n",
              "          element.innerHTML = '';\n",
              "          dataTable['output_type'] = 'display_data';\n",
              "          await google.colab.output.renderOutput(dataTable, element);\n",
              "          const docLink = document.createElement('div');\n",
              "          docLink.innerHTML = docLinkHtml;\n",
              "          element.appendChild(docLink);\n",
              "        }\n",
              "      </script>\n",
              "    </div>\n",
              "  </div>\n",
              "  "
            ],
            "text/plain": [
              "     BB  Cri  Jov  Adul  MaisVelhos  NaN\n",
              "N_S  13   19  145   182          65  125\n",
              "S    31   14   79   128          38   52"
            ]
          },
          "metadata": {},
          "execution_count": 45
        }
      ]
    },
    {
      "cell_type": "code",
      "source": [
        "#Valor do Bilhete\n",
        "vis_df[\"Fare\"].plot(kind=\"hist\")"
      ],
      "metadata": {
        "colab": {
          "base_uri": "https://localhost:8080/",
          "height": 283
        },
        "id": "-QyUFNAvTa6s",
        "outputId": "8bc28fbd-7f46-41c6-f66b-e369abc3eaef"
      },
      "execution_count": null,
      "outputs": [
        {
          "output_type": "execute_result",
          "data": {
            "text/plain": [
              "<AxesSubplot:ylabel='Frequency'>"
            ]
          },
          "metadata": {},
          "execution_count": 11
        },
        {
          "output_type": "display_data",
          "data": {
            "image/png": "[encoded data removed]",
            "text/plain": [
              "<Figure size 432x288 with 1 Axes>"
            ]
          },
          "metadata": {
            "needs_background": "light"
          }
        }
      ]
    },
    {
      "cell_type": "code",
      "source": [
        "#Corr Matrix\n",
        "corr_matrix = vis_df.corr()\n",
        "corr_matrix.style.background_gradient(cmap='Blues').set_precision(2)"
      ],
      "metadata": {
        "colab": {
          "base_uri": "https://localhost:8080/",
          "height": 323
        },
        "id": "VXS6W4f-Ig17",
        "outputId": "cc7be30f-46e9-4d0b-99a6-a93add3edc32"
      },
      "execution_count": null,
      "outputs": [
        {
          "output_type": "stream",
          "name": "stderr",
          "text": [
            "/usr/local/lib/python3.7/dist-packages/ipykernel_launcher.py:3: FutureWarning: this method is deprecated in favour of `Styler.format(precision=..)`\n",
            "  This is separate from the ipykernel package so we can avoid doing imports until\n"
          ]
        },
        {
          "output_type": "execute_result",
          "data": {
            "text/html": [
              "<style type=\"text/css\">\n",
              "#T_e5d46_row0_col0, #T_e5d46_row1_col1, #T_e5d46_row2_col2, #T_e5d46_row3_col3, #T_e5d46_row4_col4, #T_e5d46_row5_col5, #T_e5d46_row6_col6 {\n",
              "  background-color: #08306b;\n",
              "  color: #f1f1f1;\n",
              "}\n",
              "#T_e5d46_row0_col1 {\n",
              "  background-color: #c7dbef;\n",
              "  color: #000000;\n",
              "}\n",
              "#T_e5d46_row0_col2 {\n",
              "  background-color: #add0e6;\n",
              "  color: #000000;\n",
              "}\n",
              "#T_e5d46_row0_col3 {\n",
              "  background-color: #b8d5ea;\n",
              "  color: #000000;\n",
              "}\n",
              "#T_e5d46_row0_col4, #T_e5d46_row3_col1 {\n",
              "  background-color: #d1e2f3;\n",
              "  color: #000000;\n",
              "}\n",
              "#T_e5d46_row0_col5 {\n",
              "  background-color: #d8e7f5;\n",
              "  color: #000000;\n",
              "}\n",
              "#T_e5d46_row0_col6 {\n",
              "  background-color: #a3cce3;\n",
              "  color: #000000;\n",
              "}\n",
              "#T_e5d46_row1_col0, #T_e5d46_row4_col3 {\n",
              "  background-color: #eef5fc;\n",
              "  color: #000000;\n",
              "}\n",
              "#T_e5d46_row1_col2 {\n",
              "  background-color: #dceaf6;\n",
              "  color: #000000;\n",
              "}\n",
              "#T_e5d46_row1_col3 {\n",
              "  background-color: #cde0f1;\n",
              "  color: #000000;\n",
              "}\n",
              "#T_e5d46_row1_col4 {\n",
              "  background-color: #cee0f2;\n",
              "  color: #000000;\n",
              "}\n",
              "#T_e5d46_row1_col5 {\n",
              "  background-color: #cadef0;\n",
              "  color: #000000;\n",
              "}\n",
              "#T_e5d46_row1_col6 {\n",
              "  background-color: #64a9d3;\n",
              "  color: #f1f1f1;\n",
              "}\n",
              "#T_e5d46_row2_col0 {\n",
              "  background-color: #f3f8fe;\n",
              "  color: #000000;\n",
              "}\n",
              "#T_e5d46_row2_col1, #T_e5d46_row2_col3, #T_e5d46_row2_col6, #T_e5d46_row3_col4, #T_e5d46_row3_col5, #T_e5d46_row4_col0, #T_e5d46_row6_col2 {\n",
              "  background-color: #f7fbff;\n",
              "  color: #000000;\n",
              "}\n",
              "#T_e5d46_row2_col4 {\n",
              "  background-color: #b7d4ea;\n",
              "  color: #000000;\n",
              "}\n",
              "#T_e5d46_row2_col5 {\n",
              "  background-color: #d5e5f4;\n",
              "  color: #000000;\n",
              "}\n",
              "#T_e5d46_row3_col0 {\n",
              "  background-color: #e6f0f9;\n",
              "  color: #000000;\n",
              "}\n",
              "#T_e5d46_row3_col2 {\n",
              "  background-color: #e0ecf8;\n",
              "  color: #000000;\n",
              "}\n",
              "#T_e5d46_row3_col6 {\n",
              "  background-color: #8dc1dd;\n",
              "  color: #000000;\n",
              "}\n",
              "#T_e5d46_row4_col1 {\n",
              "  background-color: #cbdef1;\n",
              "  color: #000000;\n",
              "}\n",
              "#T_e5d46_row4_col2 {\n",
              "  background-color: #91c3de;\n",
              "  color: #000000;\n",
              "}\n",
              "#T_e5d46_row4_col5 {\n",
              "  background-color: #68acd5;\n",
              "  color: #f1f1f1;\n",
              "}\n",
              "#T_e5d46_row4_col6 {\n",
              "  background-color: #7cb7da;\n",
              "  color: #000000;\n",
              "}\n",
              "#T_e5d46_row5_col0 {\n",
              "  background-color: #edf4fc;\n",
              "  color: #000000;\n",
              "}\n",
              "#T_e5d46_row5_col1 {\n",
              "  background-color: #b2d2e8;\n",
              "  color: #000000;\n",
              "}\n",
              "#T_e5d46_row5_col2 {\n",
              "  background-color: #a1cbe2;\n",
              "  color: #000000;\n",
              "}\n",
              "#T_e5d46_row5_col3 {\n",
              "  background-color: #ddeaf7;\n",
              "  color: #000000;\n",
              "}\n",
              "#T_e5d46_row5_col4 {\n",
              "  background-color: #5aa2cf;\n",
              "  color: #f1f1f1;\n",
              "}\n",
              "#T_e5d46_row5_col6 {\n",
              "  background-color: #6dafd7;\n",
              "  color: #f1f1f1;\n",
              "}\n",
              "#T_e5d46_row6_col0 {\n",
              "  background-color: #eaf3fb;\n",
              "  color: #000000;\n",
              "}\n",
              "#T_e5d46_row6_col1 {\n",
              "  background-color: #82bbdb;\n",
              "  color: #000000;\n",
              "}\n",
              "#T_e5d46_row6_col3 {\n",
              "  background-color: #aacfe5;\n",
              "  color: #000000;\n",
              "}\n",
              "#T_e5d46_row6_col4 {\n",
              "  background-color: #a4cce3;\n",
              "  color: #000000;\n",
              "}\n",
              "#T_e5d46_row6_col5 {\n",
              "  background-color: #a9cfe5;\n",
              "  color: #000000;\n",
              "}\n",
              "</style>\n",
              "<table id=\"T_e5d46_\" class=\"dataframe\">\n",
              "  <thead>\n",
              "    <tr>\n",
              "      <th class=\"blank level0\" >&nbsp;</th>\n",
              "      <th class=\"col_heading level0 col0\" >PassengerId</th>\n",
              "      <th class=\"col_heading level0 col1\" >Survived</th>\n",
              "      <th class=\"col_heading level0 col2\" >Pclass</th>\n",
              "      <th class=\"col_heading level0 col3\" >Age</th>\n",
              "      <th class=\"col_heading level0 col4\" >SibSp</th>\n",
              "      <th class=\"col_heading level0 col5\" >Parch</th>\n",
              "      <th class=\"col_heading level0 col6\" >Fare</th>\n",
              "    </tr>\n",
              "  </thead>\n",
              "  <tbody>\n",
              "    <tr>\n",
              "      <th id=\"T_e5d46_level0_row0\" class=\"row_heading level0 row0\" >PassengerId</th>\n",
              "      <td id=\"T_e5d46_row0_col0\" class=\"data row0 col0\" >1.00</td>\n",
              "      <td id=\"T_e5d46_row0_col1\" class=\"data row0 col1\" >-0.01</td>\n",
              "      <td id=\"T_e5d46_row0_col2\" class=\"data row0 col2\" >-0.04</td>\n",
              "      <td id=\"T_e5d46_row0_col3\" class=\"data row0 col3\" >0.04</td>\n",
              "      <td id=\"T_e5d46_row0_col4\" class=\"data row0 col4\" >-0.06</td>\n",
              "      <td id=\"T_e5d46_row0_col5\" class=\"data row0 col5\" >-0.00</td>\n",
              "      <td id=\"T_e5d46_row0_col6\" class=\"data row0 col6\" >0.01</td>\n",
              "    </tr>\n",
              "    <tr>\n",
              "      <th id=\"T_e5d46_level0_row1\" class=\"row_heading level0 row1\" >Survived</th>\n",
              "      <td id=\"T_e5d46_row1_col0\" class=\"data row1 col0\" >-0.01</td>\n",
              "      <td id=\"T_e5d46_row1_col1\" class=\"data row1 col1\" >1.00</td>\n",
              "      <td id=\"T_e5d46_row1_col2\" class=\"data row1 col2\" >-0.34</td>\n",
              "      <td id=\"T_e5d46_row1_col3\" class=\"data row1 col3\" >-0.08</td>\n",
              "      <td id=\"T_e5d46_row1_col4\" class=\"data row1 col4\" >-0.04</td>\n",
              "      <td id=\"T_e5d46_row1_col5\" class=\"data row1 col5\" >0.08</td>\n",
              "      <td id=\"T_e5d46_row1_col6\" class=\"data row1 col6\" >0.26</td>\n",
              "    </tr>\n",
              "    <tr>\n",
              "      <th id=\"T_e5d46_level0_row2\" class=\"row_heading level0 row2\" >Pclass</th>\n",
              "      <td id=\"T_e5d46_row2_col0\" class=\"data row2 col0\" >-0.04</td>\n",
              "      <td id=\"T_e5d46_row2_col1\" class=\"data row2 col1\" >-0.34</td>\n",
              "      <td id=\"T_e5d46_row2_col2\" class=\"data row2 col2\" >1.00</td>\n",
              "      <td id=\"T_e5d46_row2_col3\" class=\"data row2 col3\" >-0.37</td>\n",
              "      <td id=\"T_e5d46_row2_col4\" class=\"data row2 col4\" >0.08</td>\n",
              "      <td id=\"T_e5d46_row2_col5\" class=\"data row2 col5\" >0.02</td>\n",
              "      <td id=\"T_e5d46_row2_col6\" class=\"data row2 col6\" >-0.55</td>\n",
              "    </tr>\n",
              "    <tr>\n",
              "      <th id=\"T_e5d46_level0_row3\" class=\"row_heading level0 row3\" >Age</th>\n",
              "      <td id=\"T_e5d46_row3_col0\" class=\"data row3 col0\" >0.04</td>\n",
              "      <td id=\"T_e5d46_row3_col1\" class=\"data row3 col1\" >-0.08</td>\n",
              "      <td id=\"T_e5d46_row3_col2\" class=\"data row3 col2\" >-0.37</td>\n",
              "      <td id=\"T_e5d46_row3_col3\" class=\"data row3 col3\" >1.00</td>\n",
              "      <td id=\"T_e5d46_row3_col4\" class=\"data row3 col4\" >-0.31</td>\n",
              "      <td id=\"T_e5d46_row3_col5\" class=\"data row3 col5\" >-0.19</td>\n",
              "      <td id=\"T_e5d46_row3_col6\" class=\"data row3 col6\" >0.10</td>\n",
              "    </tr>\n",
              "    <tr>\n",
              "      <th id=\"T_e5d46_level0_row4\" class=\"row_heading level0 row4\" >SibSp</th>\n",
              "      <td id=\"T_e5d46_row4_col0\" class=\"data row4 col0\" >-0.06</td>\n",
              "      <td id=\"T_e5d46_row4_col1\" class=\"data row4 col1\" >-0.04</td>\n",
              "      <td id=\"T_e5d46_row4_col2\" class=\"data row4 col2\" >0.08</td>\n",
              "      <td id=\"T_e5d46_row4_col3\" class=\"data row4 col3\" >-0.31</td>\n",
              "      <td id=\"T_e5d46_row4_col4\" class=\"data row4 col4\" >1.00</td>\n",
              "      <td id=\"T_e5d46_row4_col5\" class=\"data row4 col5\" >0.41</td>\n",
              "      <td id=\"T_e5d46_row4_col6\" class=\"data row4 col6\" >0.16</td>\n",
              "    </tr>\n",
              "    <tr>\n",
              "      <th id=\"T_e5d46_level0_row5\" class=\"row_heading level0 row5\" >Parch</th>\n",
              "      <td id=\"T_e5d46_row5_col0\" class=\"data row5 col0\" >-0.00</td>\n",
              "      <td id=\"T_e5d46_row5_col1\" class=\"data row5 col1\" >0.08</td>\n",
              "      <td id=\"T_e5d46_row5_col2\" class=\"data row5 col2\" >0.02</td>\n",
              "      <td id=\"T_e5d46_row5_col3\" class=\"data row5 col3\" >-0.19</td>\n",
              "      <td id=\"T_e5d46_row5_col4\" class=\"data row5 col4\" >0.41</td>\n",
              "      <td id=\"T_e5d46_row5_col5\" class=\"data row5 col5\" >1.00</td>\n",
              "      <td id=\"T_e5d46_row5_col6\" class=\"data row5 col6\" >0.22</td>\n",
              "    </tr>\n",
              "    <tr>\n",
              "      <th id=\"T_e5d46_level0_row6\" class=\"row_heading level0 row6\" >Fare</th>\n",
              "      <td id=\"T_e5d46_row6_col0\" class=\"data row6 col0\" >0.01</td>\n",
              "      <td id=\"T_e5d46_row6_col1\" class=\"data row6 col1\" >0.26</td>\n",
              "      <td id=\"T_e5d46_row6_col2\" class=\"data row6 col2\" >-0.55</td>\n",
              "      <td id=\"T_e5d46_row6_col3\" class=\"data row6 col3\" >0.10</td>\n",
              "      <td id=\"T_e5d46_row6_col4\" class=\"data row6 col4\" >0.16</td>\n",
              "      <td id=\"T_e5d46_row6_col5\" class=\"data row6 col5\" >0.22</td>\n",
              "      <td id=\"T_e5d46_row6_col6\" class=\"data row6 col6\" >1.00</td>\n",
              "    </tr>\n",
              "  </tbody>\n",
              "</table>\n"
            ],
            "text/plain": [
              "<pandas.io.formats.style.Styler at 0x7f0a27b63750>"
            ]
          },
          "metadata": {},
          "execution_count": 12
        }
      ]
    },
    {
      "cell_type": "markdown",
      "source": [
        " \n",
        "\n",
        "*   Tarifa está concentrado em valores mais baixos com cauda à direita. Possui outliers.\n",
        "*   Idade, Cabine e Porto tem valores nulos.\n",
        "*   As características [Sexo], [Bilhete mais caro(Fare ou Class)] e [Ser Criança] parecem importar em Survived.\n",
        "\n"
      ],
      "metadata": {
        "id": "wgruWAr9Tsc5"
      }
    },
    {
      "cell_type": "markdown",
      "source": [
        "## Feature Engineering - Preparar dados"
      ],
      "metadata": {
        "id": "txNTLID-gSwK"
      }
    },
    {
      "cell_type": "code",
      "source": [
        "train_pp_df = train_df_kaggle.copy()"
      ],
      "metadata": {
        "id": "9-sUNNQz9W8j"
      },
      "execution_count": null,
      "outputs": []
    },
    {
      "cell_type": "markdown",
      "source": [
        "### Sugestões [Link Kaggle](https://triangleinequality.wordpress.com/2013/09/08/basic-feature-engineering-with-the-titanic-data/)\n",
        "\n",
        "Em um link no kaggle existem sugestões de pré processamentos:\n",
        "\n",
        "> Evidenciar Título, Deck e Tamanho da Família\n",
        "\n",
        "\n"
      ],
      "metadata": {
        "id": "EpjjDFA6jSbK"
      }
    },
    {
      "cell_type": "code",
      "source": [
        "def substrings_in_string(big_string, substrings):\n",
        "  for substring in substrings:\n",
        "    if str(big_string).find(substring) != -1:\n",
        "      return substring\n",
        "  return np.nan\n",
        "\n",
        "def replace_titles(x):\n",
        "  title=x['Title']\n",
        "  if title in ['Don', 'Major', 'Capt', 'Jonkheer', 'Rev', 'Col']:\n",
        "    return 'Mr'\n",
        "  elif title in ['Countess', 'Mme']:\n",
        "    return 'Mrs'\n",
        "  elif title in ['Mlle', 'Ms']:\n",
        "    return 'Miss'\n",
        "  elif title =='Dr':\n",
        "    if x['Sex']=='Male':\n",
        "      return 'Mr'\n",
        "    else:\n",
        "      return 'Mrs'\n",
        "  else:\n",
        "      return title"
      ],
      "metadata": {
        "id": "lPxKpW39gglb"
      },
      "execution_count": null,
      "outputs": []
    },
    {
      "cell_type": "code",
      "source": [
        "#Adicionar Título\n",
        "TITLE_LIST=['Mrs', 'Mr', 'Master', 'Miss', 'Major', 'Rev', 'Dr', 'Ms', 'Mlle','Col', 'Capt', 'Mme', 'Countess', 'Don', 'Jonkheer']\n",
        "train_pp_df['Title']=train_pp_df['Name'].map(lambda x: substrings_in_string(x, TITLE_LIST))\n",
        "\n",
        "#Restringe Título ('Mr', 'Mrs', 'Miss', 'Master')\n",
        "train_pp_df['Title']=train_pp_df.apply(replace_titles, axis=1)"
      ],
      "metadata": {
        "id": "sQCMHCRpjAL1"
      },
      "execution_count": null,
      "outputs": []
    },
    {
      "cell_type": "code",
      "source": [
        "#Adicionar Deck a partir da Cabine\n",
        "CABIN_LIST = ['A', 'B', 'C', 'D', 'E', 'F', 'T', 'G', 'Unknown']\n",
        "train_pp_df['Deck']=train_pp_df['Cabin'].map(lambda x: substrings_in_string(x, CABIN_LIST))"
      ],
      "metadata": {
        "id": "0n3dGmBsivmm"
      },
      "execution_count": null,
      "outputs": []
    },
    {
      "cell_type": "code",
      "source": [
        "#Tamanho da Família = SibSp + Parch\n",
        "train_pp_df['Family_Size']=train_pp_df['SibSp']+train_pp_df['Parch']"
      ],
      "metadata": {
        "id": "w3VLHFAAjGzD"
      },
      "execution_count": null,
      "outputs": []
    },
    {
      "cell_type": "markdown",
      "source": [
        "### Outras Transformações\n",
        "\n",
        "*   Categorizar - Idade\n",
        "*   Logaritmo do Preço\n",
        "*   Sem Pais (<16 e Parch==0)\n",
        "*   Com Pais (<16 e Parch!=0)\n",
        "\n"
      ],
      "metadata": {
        "id": "cLuzqVIXjsXW"
      }
    },
    {
      "cell_type": "code",
      "source": [
        "#Remover Outlier"
      ],
      "metadata": {
        "id": "O8rEga22wczf"
      },
      "execution_count": null,
      "outputs": []
    },
    {
      "cell_type": "code",
      "source": [
        "#Reexpressar Fare para aliviar outliers\n",
        "def log_tranform(x):\n",
        "    return np.log(1 + x)\n",
        "train_pp_df['LogFare']=train_pp_df['Fare'].map(lambda x: log_tranform(x))\n",
        "train_pp_df[\"LogFare\"].plot(kind=\"hist\")"
      ],
      "metadata": {
        "id": "sXX6CmTWZT-n",
        "colab": {
          "base_uri": "https://localhost:8080/",
          "height": 283
        },
        "outputId": "570d9ede-43fb-4dd9-bc6a-843a99e845ce"
      },
      "execution_count": null,
      "outputs": [
        {
          "output_type": "execute_result",
          "data": {
            "text/plain": [
              "<AxesSubplot:ylabel='Frequency'>"
            ]
          },
          "metadata": {},
          "execution_count": 19
        },
        {
          "output_type": "display_data",
          "data": {
            "image/png": "[encoded data removed]",
            "text/plain": [
              "<Figure size 432x288 with 1 Axes>"
            ]
          },
          "metadata": {
            "needs_background": "light"
          }
        }
      ]
    },
    {
      "cell_type": "code",
      "source": [
        "# Idade Categórico\n",
        "train_pp_df[\"Age_cat\"] = pd.cut(train_pp_df[\"Age\"], bins=[0, 5, 14, 25, 45, 99], labels=[\"BB\", \"Cri\", \"Jov\", \"Adul\", \"MaisVelhos\"])"
      ],
      "metadata": {
        "id": "9iuGQOh1aNEl"
      },
      "execution_count": null,
      "outputs": []
    },
    {
      "cell_type": "code",
      "source": [
        "# Sem Parentes\n",
        "def sem_parentes(Age, Parch, SibSp):\n",
        "  if Parch == 0 and SibSp == 0:\n",
        "    return \"SemParentes\" \n",
        "  return \"ComParentes\"\n",
        "train_pp_df[\"SemParentes\"] = train_pp_df.apply(lambda row: sem_parentes(row.Age, row.Parch, row.SibSp), axis=1)"
      ],
      "metadata": {
        "id": "_qE-H2vmcsyQ"
      },
      "execution_count": null,
      "outputs": []
    },
    {
      "cell_type": "markdown",
      "source": [
        "### Resultado\n",
        "\n",
        "Adicionados:\n",
        "\n",
        "```\n",
        "['Title', 'Deck', 'Family_Size', 'LogFare', 'Age_cat', 'SemParentes']\n",
        "```"
      ],
      "metadata": {
        "id": "TdAM4GD2juN6"
      }
    },
    {
      "cell_type": "code",
      "source": [
        "train_pp_df.head(10)"
      ],
      "metadata": {
        "colab": {
          "base_uri": "https://localhost:8080/",
          "height": 965
        },
        "id": "J8JWBel7gkxT",
        "outputId": "6c788731-d69f-4835-c1e8-0af9de2ce406"
      },
      "execution_count": null,
      "outputs": [
        {
          "output_type": "execute_result",
          "data": {
            "text/html": [
              "\n",
              "  <div id=\"df-09b99893-dae9-4435-90d2-c6a290b9b9e7\">\n",
              "    <div class=\"colab-df-container\">\n",
              "      <div>\n",
              "<style scoped>\n",
              "    .dataframe tbody tr th:only-of-type {\n",
              "        vertical-align: middle;\n",
              "    }\n",
              "\n",
              "    .dataframe tbody tr th {\n",
              "        vertical-align: top;\n",
              "    }\n",
              "\n",
              "    .dataframe thead th {\n",
              "        text-align: right;\n",
              "    }\n",
              "</style>\n",
              "<table border=\"1\" class=\"dataframe\">\n",
              "  <thead>\n",
              "    <tr style=\"text-align: right;\">\n",
              "      <th></th>\n",
              "      <th>PassengerId</th>\n",
              "      <th>Survived</th>\n",
              "      <th>Pclass</th>\n",
              "      <th>Name</th>\n",
              "      <th>Sex</th>\n",
              "      <th>Age</th>\n",
              "      <th>SibSp</th>\n",
              "      <th>Parch</th>\n",
              "      <th>Ticket</th>\n",
              "      <th>Fare</th>\n",
              "      <th>Cabin</th>\n",
              "      <th>Embarked</th>\n",
              "      <th>Title</th>\n",
              "      <th>Deck</th>\n",
              "      <th>Family_Size</th>\n",
              "      <th>LogFare</th>\n",
              "      <th>Age_cat</th>\n",
              "      <th>SemParentes</th>\n",
              "    </tr>\n",
              "  </thead>\n",
              "  <tbody>\n",
              "    <tr>\n",
              "      <th>0</th>\n",
              "      <td>1</td>\n",
              "      <td>0</td>\n",
              "      <td>3</td>\n",
              "      <td>Braund, Mr. Owen Harris</td>\n",
              "      <td>male</td>\n",
              "      <td>22.0</td>\n",
              "      <td>1</td>\n",
              "      <td>0</td>\n",
              "      <td>A/5 21171</td>\n",
              "      <td>7.2500</td>\n",
              "      <td>NaN</td>\n",
              "      <td>S</td>\n",
              "      <td>Mr</td>\n",
              "      <td>NaN</td>\n",
              "      <td>1</td>\n",
              "      <td>2.110213</td>\n",
              "      <td>Jov</td>\n",
              "      <td>ComParentes</td>\n",
              "    </tr>\n",
              "    <tr>\n",
              "      <th>1</th>\n",
              "      <td>2</td>\n",
              "      <td>1</td>\n",
              "      <td>1</td>\n",
              "      <td>Cumings, Mrs. John Bradley (Florence Briggs Th...</td>\n",
              "      <td>female</td>\n",
              "      <td>38.0</td>\n",
              "      <td>1</td>\n",
              "      <td>0</td>\n",
              "      <td>PC 17599</td>\n",
              "      <td>71.2833</td>\n",
              "      <td>C85</td>\n",
              "      <td>C</td>\n",
              "      <td>Mrs</td>\n",
              "      <td>C</td>\n",
              "      <td>1</td>\n",
              "      <td>4.280593</td>\n",
              "      <td>Adul</td>\n",
              "      <td>ComParentes</td>\n",
              "    </tr>\n",
              "    <tr>\n",
              "      <th>2</th>\n",
              "      <td>3</td>\n",
              "      <td>1</td>\n",
              "      <td>3</td>\n",
              "      <td>Heikkinen, Miss. Laina</td>\n",
              "      <td>female</td>\n",
              "      <td>26.0</td>\n",
              "      <td>0</td>\n",
              "      <td>0</td>\n",
              "      <td>STON/O2. 3101282</td>\n",
              "      <td>7.9250</td>\n",
              "      <td>NaN</td>\n",
              "      <td>S</td>\n",
              "      <td>Miss</td>\n",
              "      <td>NaN</td>\n",
              "      <td>0</td>\n",
              "      <td>2.188856</td>\n",
              "      <td>Adul</td>\n",
              "      <td>SemParentes</td>\n",
              "    </tr>\n",
              "    <tr>\n",
              "      <th>3</th>\n",
              "      <td>4</td>\n",
              "      <td>1</td>\n",
              "      <td>1</td>\n",
              "      <td>Futrelle, Mrs. Jacques Heath (Lily May Peel)</td>\n",
              "      <td>female</td>\n",
              "      <td>35.0</td>\n",
              "      <td>1</td>\n",
              "      <td>0</td>\n",
              "      <td>113803</td>\n",
              "      <td>53.1000</td>\n",
              "      <td>C123</td>\n",
              "      <td>S</td>\n",
              "      <td>Mrs</td>\n",
              "      <td>C</td>\n",
              "      <td>1</td>\n",
              "      <td>3.990834</td>\n",
              "      <td>Adul</td>\n",
              "      <td>ComParentes</td>\n",
              "    </tr>\n",
              "    <tr>\n",
              "      <th>4</th>\n",
              "      <td>5</td>\n",
              "      <td>0</td>\n",
              "      <td>3</td>\n",
              "      <td>Allen, Mr. William Henry</td>\n",
              "      <td>male</td>\n",
              "      <td>35.0</td>\n",
              "      <td>0</td>\n",
              "      <td>0</td>\n",
              "      <td>373450</td>\n",
              "      <td>8.0500</td>\n",
              "      <td>NaN</td>\n",
              "      <td>S</td>\n",
              "      <td>Mr</td>\n",
              "      <td>NaN</td>\n",
              "      <td>0</td>\n",
              "      <td>2.202765</td>\n",
              "      <td>Adul</td>\n",
              "      <td>SemParentes</td>\n",
              "    </tr>\n",
              "    <tr>\n",
              "      <th>5</th>\n",
              "      <td>6</td>\n",
              "      <td>0</td>\n",
              "      <td>3</td>\n",
              "      <td>Moran, Mr. James</td>\n",
              "      <td>male</td>\n",
              "      <td>NaN</td>\n",
              "      <td>0</td>\n",
              "      <td>0</td>\n",
              "      <td>330877</td>\n",
              "      <td>8.4583</td>\n",
              "      <td>NaN</td>\n",
              "      <td>Q</td>\n",
              "      <td>Mr</td>\n",
              "      <td>NaN</td>\n",
              "      <td>0</td>\n",
              "      <td>2.246893</td>\n",
              "      <td>NaN</td>\n",
              "      <td>SemParentes</td>\n",
              "    </tr>\n",
              "    <tr>\n",
              "      <th>6</th>\n",
              "      <td>7</td>\n",
              "      <td>0</td>\n",
              "      <td>1</td>\n",
              "      <td>McCarthy, Mr. Timothy J</td>\n",
              "      <td>male</td>\n",
              "      <td>54.0</td>\n",
              "      <td>0</td>\n",
              "      <td>0</td>\n",
              "      <td>17463</td>\n",
              "      <td>51.8625</td>\n",
              "      <td>E46</td>\n",
              "      <td>S</td>\n",
              "      <td>Mr</td>\n",
              "      <td>E</td>\n",
              "      <td>0</td>\n",
              "      <td>3.967694</td>\n",
              "      <td>MaisVelhos</td>\n",
              "      <td>SemParentes</td>\n",
              "    </tr>\n",
              "    <tr>\n",
              "      <th>7</th>\n",
              "      <td>8</td>\n",
              "      <td>0</td>\n",
              "      <td>3</td>\n",
              "      <td>Palsson, Master. Gosta Leonard</td>\n",
              "      <td>male</td>\n",
              "      <td>2.0</td>\n",
              "      <td>3</td>\n",
              "      <td>1</td>\n",
              "      <td>349909</td>\n",
              "      <td>21.0750</td>\n",
              "      <td>NaN</td>\n",
              "      <td>S</td>\n",
              "      <td>Master</td>\n",
              "      <td>NaN</td>\n",
              "      <td>4</td>\n",
              "      <td>3.094446</td>\n",
              "      <td>BB</td>\n",
              "      <td>ComParentes</td>\n",
              "    </tr>\n",
              "    <tr>\n",
              "      <th>8</th>\n",
              "      <td>9</td>\n",
              "      <td>1</td>\n",
              "      <td>3</td>\n",
              "      <td>Johnson, Mrs. Oscar W (Elisabeth Vilhelmina Berg)</td>\n",
              "      <td>female</td>\n",
              "      <td>27.0</td>\n",
              "      <td>0</td>\n",
              "      <td>2</td>\n",
              "      <td>347742</td>\n",
              "      <td>11.1333</td>\n",
              "      <td>NaN</td>\n",
              "      <td>S</td>\n",
              "      <td>Mrs</td>\n",
              "      <td>NaN</td>\n",
              "      <td>2</td>\n",
              "      <td>2.495954</td>\n",
              "      <td>Adul</td>\n",
              "      <td>ComParentes</td>\n",
              "    </tr>\n",
              "    <tr>\n",
              "      <th>9</th>\n",
              "      <td>10</td>\n",
              "      <td>1</td>\n",
              "      <td>2</td>\n",
              "      <td>Nasser, Mrs. Nicholas (Adele Achem)</td>\n",
              "      <td>female</td>\n",
              "      <td>14.0</td>\n",
              "      <td>1</td>\n",
              "      <td>0</td>\n",
              "      <td>237736</td>\n",
              "      <td>30.0708</td>\n",
              "      <td>NaN</td>\n",
              "      <td>C</td>\n",
              "      <td>Mrs</td>\n",
              "      <td>NaN</td>\n",
              "      <td>1</td>\n",
              "      <td>3.436268</td>\n",
              "      <td>Cri</td>\n",
              "      <td>ComParentes</td>\n",
              "    </tr>\n",
              "  </tbody>\n",
              "</table>\n",
              "</div>\n",
              "      <button class=\"colab-df-convert\" onclick=\"convertToInteractive('df-09b99893-dae9-4435-90d2-c6a290b9b9e7')\"\n",
              "              title=\"Convert this dataframe to an interactive table.\"\n",
              "              style=\"display:none;\">\n",
              "        \n",
              "  <svg xmlns=\"http://www.w3.org/2000/svg\" height=\"24px\"viewBox=\"0 0 24 24\"\n",
              "       width=\"24px\">\n",
              "    <path d=\"M0 0h24v24H0V0z\" fill=\"none\"/>\n",
              "    <path d=\"M18.56 5.44l.94 2.06.94-2.06 2.06-.94-2.06-.94-.94-2.06-.94 2.06-2.06.94zm-11 1L8.5 8.5l.94-2.06 2.06-.94-2.06-.94L8.5 2.5l-.94 2.06-2.06.94zm10 10l.94 2.06.94-2.06 2.06-.94-2.06-.94-.94-2.06-.94 2.06-2.06.94z\"/><path d=\"M17.41 7.96l-1.37-1.37c-.4-.4-.92-.59-1.43-.59-.52 0-1.04.2-1.43.59L10.3 9.45l-7.72 7.72c-.78.78-.78 2.05 0 2.83L4 21.41c.39.39.9.59 1.41.59.51 0 1.02-.2 1.41-.59l7.78-7.78 2.81-2.81c.8-.78.8-2.07 0-2.86zM5.41 20L4 18.59l7.72-7.72 1.47 1.35L5.41 20z\"/>\n",
              "  </svg>\n",
              "      </button>\n",
              "      \n",
              "  <style>\n",
              "    .colab-df-container {\n",
              "      display:flex;\n",
              "      flex-wrap:wrap;\n",
              "      gap: 12px;\n",
              "    }\n",
              "\n",
              "    .colab-df-convert {\n",
              "      background-color: #E8F0FE;\n",
              "      border: none;\n",
              "      border-radius: 50%;\n",
              "      cursor: pointer;\n",
              "      display: none;\n",
              "      fill: #1967D2;\n",
              "      height: 32px;\n",
              "      padding: 0 0 0 0;\n",
              "      width: 32px;\n",
              "    }\n",
              "\n",
              "    .colab-df-convert:hover {\n",
              "      background-color: #E2EBFA;\n",
              "      box-shadow: 0px 1px 2px rgba(60, 64, 67, 0.3), 0px 1px 3px 1px rgba(60, 64, 67, 0.15);\n",
              "      fill: #174EA6;\n",
              "    }\n",
              "\n",
              "    [theme=dark] .colab-df-convert {\n",
              "      background-color: #3B4455;\n",
              "      fill: #D2E3FC;\n",
              "    }\n",
              "\n",
              "    [theme=dark] .colab-df-convert:hover {\n",
              "      background-color: #434B5C;\n",
              "      box-shadow: 0px 1px 3px 1px rgba(0, 0, 0, 0.15);\n",
              "      filter: drop-shadow(0px 1px 2px rgba(0, 0, 0, 0.3));\n",
              "      fill: #FFFFFF;\n",
              "    }\n",
              "  </style>\n",
              "\n",
              "      <script>\n",
              "        const buttonEl =\n",
              "          document.querySelector('#df-09b99893-dae9-4435-90d2-c6a290b9b9e7 button.colab-df-convert');\n",
              "        buttonEl.style.display =\n",
              "          google.colab.kernel.accessAllowed ? 'block' : 'none';\n",
              "\n",
              "        async function convertToInteractive(key) {\n",
              "          const element = document.querySelector('#df-09b99893-dae9-4435-90d2-c6a290b9b9e7');\n",
              "          const dataTable =\n",
              "            await google.colab.kernel.invokeFunction('convertToInteractive',\n",
              "                                                     [key], {});\n",
              "          if (!dataTable) return;\n",
              "\n",
              "          const docLinkHtml = 'Like what you see? Visit the ' +\n",
              "            '<a target=\"_blank\" href=https://colab.research.google.com/notebooks/data_table.ipynb>data table notebook</a>'\n",
              "            + ' to learn more about interactive tables.';\n",
              "          element.innerHTML = '';\n",
              "          dataTable['output_type'] = 'display_data';\n",
              "          await google.colab.output.renderOutput(dataTable, element);\n",
              "          const docLink = document.createElement('div');\n",
              "          docLink.innerHTML = docLinkHtml;\n",
              "          element.appendChild(docLink);\n",
              "        }\n",
              "      </script>\n",
              "    </div>\n",
              "  </div>\n",
              "  "
            ],
            "text/plain": [
              "   PassengerId  Survived  Pclass  ...   LogFare     Age_cat  SemParentes\n",
              "0            1         0       3  ...  2.110213         Jov  ComParentes\n",
              "1            2         1       1  ...  4.280593        Adul  ComParentes\n",
              "2            3         1       3  ...  2.188856        Adul  SemParentes\n",
              "3            4         1       1  ...  3.990834        Adul  ComParentes\n",
              "4            5         0       3  ...  2.202765        Adul  SemParentes\n",
              "5            6         0       3  ...  2.246893         NaN  SemParentes\n",
              "6            7         0       1  ...  3.967694  MaisVelhos  SemParentes\n",
              "7            8         0       3  ...  3.094446          BB  ComParentes\n",
              "8            9         1       3  ...  2.495954        Adul  ComParentes\n",
              "9           10         1       2  ...  3.436268         Cri  ComParentes\n",
              "\n",
              "[10 rows x 18 columns]"
            ]
          },
          "metadata": {},
          "execution_count": 22
        }
      ]
    },
    {
      "cell_type": "code",
      "source": [
        "train_pp_df.isnull().sum()"
      ],
      "metadata": {
        "colab": {
          "base_uri": "https://localhost:8080/"
        },
        "id": "HlPypavPhALt",
        "outputId": "95ff2740-1aa8-44a4-8cee-8c852ace0c72"
      },
      "execution_count": null,
      "outputs": [
        {
          "output_type": "execute_result",
          "data": {
            "text/plain": [
              "PassengerId      0\n",
              "Survived         0\n",
              "Pclass           0\n",
              "Name             0\n",
              "Sex              0\n",
              "Age            177\n",
              "SibSp            0\n",
              "Parch            0\n",
              "Ticket           0\n",
              "Fare             0\n",
              "Cabin          687\n",
              "Embarked         2\n",
              "Title            0\n",
              "Deck           687\n",
              "Family_Size      0\n",
              "LogFare          0\n",
              "Age_cat        177\n",
              "SemParentes      0\n",
              "dtype: int64"
            ]
          },
          "metadata": {},
          "execution_count": 23
        }
      ]
    },
    {
      "cell_type": "code",
      "source": [
        "for col in train_pp_df:\n",
        "    col_unique = len(train_pp_df[col].unique())\n",
        "    print(f\"{col}  # unique: {col_unique}\")"
      ],
      "metadata": {
        "colab": {
          "base_uri": "https://localhost:8080/"
        },
        "id": "uWP6X7RvjUp4",
        "outputId": "c9ecd1bc-d9a0-4062-eb1f-271d6e8faa99"
      },
      "execution_count": null,
      "outputs": [
        {
          "output_type": "stream",
          "name": "stdout",
          "text": [
            "PassengerId  # unique: 891\n",
            "Survived  # unique: 2\n",
            "Pclass  # unique: 3\n",
            "Name  # unique: 891\n",
            "Sex  # unique: 2\n",
            "Age  # unique: 89\n",
            "SibSp  # unique: 7\n",
            "Parch  # unique: 7\n",
            "Ticket  # unique: 681\n",
            "Fare  # unique: 248\n",
            "Cabin  # unique: 148\n",
            "Embarked  # unique: 4\n",
            "Title  # unique: 4\n",
            "Deck  # unique: 9\n",
            "Family_Size  # unique: 9\n",
            "LogFare  # unique: 248\n",
            "Age_cat  # unique: 6\n",
            "SemParentes  # unique: 2\n"
          ]
        }
      ]
    },
    {
      "cell_type": "markdown",
      "source": [
        "### Nulos, Encodings e Normalizações em Pipeline\n",
        "* Remover Id, Name, Ticket, Cabin \n",
        "* Nulos \n",
        "  * Age substituir por média same title\n",
        "  * Embarked Moda (S)\n",
        "  * Deck nova classe (NoInfo)\n",
        "* OneHot = Sex, Embarked, Title, Deck, Age_cat, SemParentes\n",
        "* SScale = Pclass, Age, Fare, LogFare, SibSp, Parch e Family_Size\n"
      ],
      "metadata": {
        "id": "gmjjPQbIkrrh"
      }
    },
    {
      "cell_type": "code",
      "source": [
        "class PandasTranformer(BaseEstimator, TransformerMixin):\n",
        "  def __init__(self):\n",
        "    pass\n",
        "  def fit(self, X, y=None):\n",
        "    return self  \n",
        "  def transform(self, X):\n",
        "    assert isinstance(X, pd.DataFrame)\n",
        "    #Title\n",
        "    X[\"Title\"]=X['Name'].map(lambda x: substrings_in_string(x, TITLE_LIST))\n",
        "    X[\"Title\"] = X.apply(replace_titles, axis=1)\n",
        "\n",
        "    #Deck\n",
        "    X[\"Deck\"]=X['Cabin'].map(lambda x: substrings_in_string(x, CABIN_LIST))\n",
        "\n",
        "    #Nulos\n",
        "    X['Age'] = X.Age.fillna(X.groupby('Title')['Age'].transform('mean'))\n",
        "    values = {\"Embarked\": \"S\", \"Deck\": \"NoInfo\"}\n",
        "    X = X.fillna(value=values)\n",
        "    \n",
        "    #Outros Atributos\n",
        "    X[\"Family_Size\"]=X['SibSp']+X['Parch']\n",
        "    X[\"LogFare\"]=X['Fare'].map(lambda x: log_tranform(x))\n",
        "    X[\"Age_cat\"] = pd.cut(X[\"Age\"], bins=[0, 5, 14, 18, 45, 99], labels=[\"BB\", \"Cri\", \"Jov\", \"Adul\", \"MaisVelhos\"])\n",
        "    X[\"SemParentes\"] = train_pp_df.apply(lambda row: sem_parentes(row.Age, row.Parch, row.SibSp), axis=1)\n",
        "\n",
        "    #Drop\n",
        "    X = X.drop(columns=[\"PassengerId\", \"Name\", \"Ticket\", \"Cabin\", \"Fare\"])\n",
        "    return X"
      ],
      "metadata": {
        "id": "CSi_tj3gmpk5"
      },
      "execution_count": null,
      "outputs": []
    },
    {
      "cell_type": "code",
      "source": [
        "cat_atribs = [\"Sex\",\"Embarked\", \"Deck\", \"Age_cat\", \"SemParentes\"] \n",
        "num_atribs = [\"Pclass\",\"Age\", \"LogFare\", \"SibSp\", \"Parch\", \"Family_Size\"]\n",
        "\n",
        "cat_pipeline = Pipeline([('cat_imputer', SimpleImputer(strategy=\"most_frequent\")),\n",
        "                         ('one_hot', OneHotEncoder())])\n",
        "\n",
        "num_pipeline = Pipeline([('num_imputer', SimpleImputer(strategy=\"mean\")),\n",
        "                         ('scaler', MinMaxScaler())])\n",
        "\n",
        "cat_num_pipeline = ColumnTransformer([\n",
        "        ('cat_pipeline', cat_pipeline, cat_atribs),\n",
        "        ('num_pipeline', num_pipeline, num_atribs)\n",
        "])\n",
        "\n",
        "full_pipeline = Pipeline([(\"pandas_transformations\", PandasTranformer()), (\"cat_num_pipe\", cat_num_pipeline)])"
      ],
      "metadata": {
        "id": "lPliJez-ltYV"
      },
      "execution_count": null,
      "outputs": []
    },
    {
      "cell_type": "code",
      "source": [
        "#Separar X e Y\n",
        "train_pipe_df = train_df_kaggle.copy()\n",
        "Y = train_pipe_df[\"Survived\"]\n",
        "train_pipe_df = train_pipe_df.drop(columns=[\"Survived\"])"
      ],
      "metadata": {
        "id": "ziYn6GbBkc5X"
      },
      "execution_count": null,
      "outputs": []
    },
    {
      "cell_type": "code",
      "source": [
        "#Aplicar Pipeline - Fit e Transform\n",
        "X = full_pipeline.fit_transform(train_pipe_df)"
      ],
      "metadata": {
        "id": "qzwW9lJzdCdB"
      },
      "execution_count": null,
      "outputs": []
    },
    {
      "cell_type": "markdown",
      "source": [
        "## Explorar Modelos\n",
        "Explorando os modelos com validação cruzada kfold(10 folds)\n",
        "Utilizando média e desvio padrão do f1 score em cada fold.  "
      ],
      "metadata": {
        "id": "s6F-JJDLkz1W"
      }
    },
    {
      "cell_type": "code",
      "source": [
        "results = {}"
      ],
      "metadata": {
        "id": "rSWS6-1F6yaV"
      },
      "execution_count": null,
      "outputs": []
    },
    {
      "cell_type": "code",
      "source": [
        "def display_scores(scores):\n",
        "  mean = scores.mean()\n",
        "  std =  scores.std()\n",
        "  max =  scores.max()\n",
        "  min =  scores.min()\n",
        "\n",
        "  print(\"Scores:\", scores)\n",
        "  print(\"Mean:\",mean)\n",
        "  print(\"Standard deviation:\",std)\n",
        "  return mean, std, max, min"
      ],
      "metadata": {
        "id": "citm3jf05zvU"
      },
      "execution_count": null,
      "outputs": []
    },
    {
      "cell_type": "code",
      "source": [
        "%%time\n",
        "nome = \"LogisticRegression\"\n",
        "model = LogisticRegression()\n",
        "scores = cross_val_score(model, X, Y, scoring=\"f1\", cv=10)\n",
        "mean, std , max, min = display_scores(scores)\n",
        "results[nome] = (mean, std, max, min)"
      ],
      "metadata": {
        "colab": {
          "base_uri": "https://localhost:8080/"
        },
        "id": "Iz-KMVI868gJ",
        "outputId": "dc2096d6-6663-4776-8732-8981b11c6590"
      },
      "execution_count": null,
      "outputs": [
        {
          "output_type": "stream",
          "name": "stdout",
          "text": [
            "Scores: [0.73239437 0.76056338 0.70967742 0.82191781 0.76056338 0.71875\n",
            " 0.72131148 0.74193548 0.78787879 0.79411765]\n",
            "Mean: 0.7549109748552996\n",
            "Standard deviation: 0.035122404491892745\n",
            "CPU times: user 340 ms, sys: 306 ms, total: 647 ms\n",
            "Wall time: 393 ms\n"
          ]
        }
      ]
    },
    {
      "cell_type": "code",
      "source": [
        "%%time\n",
        "nome = \"SVM\"\n",
        "model = svm.SVC()\n",
        "scores = cross_val_score(model, X, Y, scoring=\"f1\", cv=10)\n",
        "mean, std , max, min = display_scores(scores)\n",
        "results[nome] = (mean, std, max, min)"
      ],
      "metadata": {
        "colab": {
          "base_uri": "https://localhost:8080/"
        },
        "id": "m0Ow2st7kNnS",
        "outputId": "a6214aa9-f24b-48e2-b783-c97d2ac9b067"
      },
      "execution_count": null,
      "outputs": [
        {
          "output_type": "stream",
          "name": "stdout",
          "text": [
            "Scores: [0.74626866 0.74626866 0.6440678  0.81690141 0.8        0.73015873\n",
            " 0.75409836 0.6779661  0.85294118 0.79411765]\n",
            "Mean: 0.7562788534532504\n",
            "Standard deviation: 0.05997803235802241\n",
            "CPU times: user 396 ms, sys: 62 ms, total: 458 ms\n",
            "Wall time: 395 ms\n"
          ]
        }
      ]
    },
    {
      "cell_type": "code",
      "source": [
        "%%time\n",
        "nome = \"KNeighborsClassifier\"\n",
        "model = KNeighborsClassifier()\n",
        "scores = cross_val_score(model, X, Y, scoring=\"f1\", cv=10)\n",
        "scores_agg = display_scores(scores)\n",
        "results[nome] = scores_agg"
      ],
      "metadata": {
        "colab": {
          "base_uri": "https://localhost:8080/"
        },
        "id": "xEW0Bvxz68ls",
        "outputId": "de3f28f7-e00a-4bf3-eba9-a337fdafaac9"
      },
      "execution_count": null,
      "outputs": [
        {
          "output_type": "stream",
          "name": "stdout",
          "text": [
            "Scores: [0.70769231 0.65625    0.61016949 0.77777778 0.84848485 0.73015873\n",
            " 0.74576271 0.73015873 0.81818182 0.75757576]\n",
            "Mean: 0.7382212173419801\n",
            "Standard deviation: 0.06687787867521275\n",
            "CPU times: user 147 ms, sys: 117 ms, total: 264 ms\n",
            "Wall time: 143 ms\n"
          ]
        }
      ]
    },
    {
      "cell_type": "code",
      "source": [
        "%%time\n",
        "nome = \"RandomForestClassifier\"\n",
        "model = RandomForestClassifier()\n",
        "scores = cross_val_score(model, X, Y, scoring=\"f1\", cv=10)\n",
        "scores_agg = display_scores(scores)\n",
        "results[nome] = scores_agg"
      ],
      "metadata": {
        "colab": {
          "base_uri": "https://localhost:8080/"
        },
        "id": "wPoETBkP68ox",
        "outputId": "574adf40-46f2-44b1-d414-5953c442f041"
      },
      "execution_count": null,
      "outputs": [
        {
          "output_type": "stream",
          "name": "stdout",
          "text": [
            "Scores: [0.6969697  0.75362319 0.6557377  0.81578947 0.82352941 0.74626866\n",
            " 0.68852459 0.625      0.82857143 0.7761194 ]\n",
            "Mean: 0.7410133554179299\n",
            "Standard deviation: 0.06849218479414869\n",
            "CPU times: user 2.36 s, sys: 88.8 ms, total: 2.44 s\n",
            "Wall time: 2.38 s\n"
          ]
        }
      ]
    },
    {
      "cell_type": "code",
      "source": [
        "%%time\n",
        "nome = \"DecisionTreeClassifier\"\n",
        "model = DecisionTreeClassifier()\n",
        "scores = cross_val_score(model, X, Y, scoring=\"f1\", cv=10)\n",
        "scores_agg = display_scores(scores)\n",
        "results[nome] = scores_agg"
      ],
      "metadata": {
        "colab": {
          "base_uri": "https://localhost:8080/"
        },
        "id": "-vYZeUl-69P4",
        "outputId": "5726f697-7669-49a5-c5e2-3c9626e651c8"
      },
      "execution_count": null,
      "outputs": [
        {
          "output_type": "stream",
          "name": "stdout",
          "text": [
            "Scores: [0.66666667 0.60869565 0.63492063 0.75       0.73972603 0.75757576\n",
            " 0.72131148 0.63636364 0.82191781 0.82857143]\n",
            "Mean: 0.7165749087298311\n",
            "Standard deviation: 0.07363905070560678\n",
            "CPU times: user 55.7 ms, sys: 3.04 ms, total: 58.7 ms\n",
            "Wall time: 58 ms\n"
          ]
        }
      ]
    },
    {
      "cell_type": "code",
      "source": [
        "%%time\n",
        "nome = \"XGBClassifier\"\n",
        "model = XGBClassifier()\n",
        "scores = cross_val_score(model, X, Y, scoring=\"f1\", cv=10)\n",
        "scores_agg = display_scores(scores)\n",
        "results[nome] = scores_agg"
      ],
      "metadata": {
        "colab": {
          "base_uri": "https://localhost:8080/"
        },
        "id": "T4oTxg1I226D",
        "outputId": "0511fb8b-1e85-424b-8739-798a015d11ae"
      },
      "execution_count": null,
      "outputs": [
        {
          "output_type": "stream",
          "name": "stdout",
          "text": [
            "Scores: [0.70769231 0.72131148 0.65517241 0.82191781 0.84375    0.77419355\n",
            " 0.77419355 0.6984127  0.87323944 0.78125   ]\n",
            "Mean: 0.7651133236921035\n",
            "Standard deviation: 0.06578660804201648\n",
            "CPU times: user 810 ms, sys: 7.86 ms, total: 818 ms\n",
            "Wall time: 822 ms\n"
          ]
        }
      ]
    },
    {
      "cell_type": "code",
      "source": [
        "pd.DataFrame(results, index=[\"metric\", \"std\", \"max\", \"min\"]).transpose()"
      ],
      "metadata": {
        "colab": {
          "base_uri": "https://localhost:8080/",
          "height": 237
        },
        "id": "wJpgRFLL3__t",
        "outputId": "57fa03cc-dbf4-464b-c0b9-744210c88062"
      },
      "execution_count": null,
      "outputs": [
        {
          "output_type": "execute_result",
          "data": {
            "text/html": [
              "\n",
              "  <div id=\"df-f513b4d4-1171-46ff-b2d5-2e1ededc3096\">\n",
              "    <div class=\"colab-df-container\">\n",
              "      <div>\n",
              "<style scoped>\n",
              "    .dataframe tbody tr th:only-of-type {\n",
              "        vertical-align: middle;\n",
              "    }\n",
              "\n",
              "    .dataframe tbody tr th {\n",
              "        vertical-align: top;\n",
              "    }\n",
              "\n",
              "    .dataframe thead th {\n",
              "        text-align: right;\n",
              "    }\n",
              "</style>\n",
              "<table border=\"1\" class=\"dataframe\">\n",
              "  <thead>\n",
              "    <tr style=\"text-align: right;\">\n",
              "      <th></th>\n",
              "      <th>metric</th>\n",
              "      <th>std</th>\n",
              "      <th>max</th>\n",
              "      <th>min</th>\n",
              "    </tr>\n",
              "  </thead>\n",
              "  <tbody>\n",
              "    <tr>\n",
              "      <th>LogisticRegression</th>\n",
              "      <td>0.754911</td>\n",
              "      <td>0.035122</td>\n",
              "      <td>0.821918</td>\n",
              "      <td>0.709677</td>\n",
              "    </tr>\n",
              "    <tr>\n",
              "      <th>SVM</th>\n",
              "      <td>0.756279</td>\n",
              "      <td>0.059978</td>\n",
              "      <td>0.852941</td>\n",
              "      <td>0.644068</td>\n",
              "    </tr>\n",
              "    <tr>\n",
              "      <th>KNeighborsClassifier</th>\n",
              "      <td>0.738221</td>\n",
              "      <td>0.066878</td>\n",
              "      <td>0.848485</td>\n",
              "      <td>0.610169</td>\n",
              "    </tr>\n",
              "    <tr>\n",
              "      <th>RandomForestClassifier</th>\n",
              "      <td>0.741013</td>\n",
              "      <td>0.068492</td>\n",
              "      <td>0.828571</td>\n",
              "      <td>0.625000</td>\n",
              "    </tr>\n",
              "    <tr>\n",
              "      <th>DecisionTreeClassifier</th>\n",
              "      <td>0.716575</td>\n",
              "      <td>0.073639</td>\n",
              "      <td>0.828571</td>\n",
              "      <td>0.608696</td>\n",
              "    </tr>\n",
              "    <tr>\n",
              "      <th>XGBClassifier</th>\n",
              "      <td>0.765113</td>\n",
              "      <td>0.065787</td>\n",
              "      <td>0.873239</td>\n",
              "      <td>0.655172</td>\n",
              "    </tr>\n",
              "  </tbody>\n",
              "</table>\n",
              "</div>\n",
              "      <button class=\"colab-df-convert\" onclick=\"convertToInteractive('df-f513b4d4-1171-46ff-b2d5-2e1ededc3096')\"\n",
              "              title=\"Convert this dataframe to an interactive table.\"\n",
              "              style=\"display:none;\">\n",
              "        \n",
              "  <svg xmlns=\"http://www.w3.org/2000/svg\" height=\"24px\"viewBox=\"0 0 24 24\"\n",
              "       width=\"24px\">\n",
              "    <path d=\"M0 0h24v24H0V0z\" fill=\"none\"/>\n",
              "    <path d=\"M18.56 5.44l.94 2.06.94-2.06 2.06-.94-2.06-.94-.94-2.06-.94 2.06-2.06.94zm-11 1L8.5 8.5l.94-2.06 2.06-.94-2.06-.94L8.5 2.5l-.94 2.06-2.06.94zm10 10l.94 2.06.94-2.06 2.06-.94-2.06-.94-.94-2.06-.94 2.06-2.06.94z\"/><path d=\"M17.41 7.96l-1.37-1.37c-.4-.4-.92-.59-1.43-.59-.52 0-1.04.2-1.43.59L10.3 9.45l-7.72 7.72c-.78.78-.78 2.05 0 2.83L4 21.41c.39.39.9.59 1.41.59.51 0 1.02-.2 1.41-.59l7.78-7.78 2.81-2.81c.8-.78.8-2.07 0-2.86zM5.41 20L4 18.59l7.72-7.72 1.47 1.35L5.41 20z\"/>\n",
              "  </svg>\n",
              "      </button>\n",
              "      \n",
              "  <style>\n",
              "    .colab-df-container {\n",
              "      display:flex;\n",
              "      flex-wrap:wrap;\n",
              "      gap: 12px;\n",
              "    }\n",
              "\n",
              "    .colab-df-convert {\n",
              "      background-color: #E8F0FE;\n",
              "      border: none;\n",
              "      border-radius: 50%;\n",
              "      cursor: pointer;\n",
              "      display: none;\n",
              "      fill: #1967D2;\n",
              "      height: 32px;\n",
              "      padding: 0 0 0 0;\n",
              "      width: 32px;\n",
              "    }\n",
              "\n",
              "    .colab-df-convert:hover {\n",
              "      background-color: #E2EBFA;\n",
              "      box-shadow: 0px 1px 2px rgba(60, 64, 67, 0.3), 0px 1px 3px 1px rgba(60, 64, 67, 0.15);\n",
              "      fill: #174EA6;\n",
              "    }\n",
              "\n",
              "    [theme=dark] .colab-df-convert {\n",
              "      background-color: #3B4455;\n",
              "      fill: #D2E3FC;\n",
              "    }\n",
              "\n",
              "    [theme=dark] .colab-df-convert:hover {\n",
              "      background-color: #434B5C;\n",
              "      box-shadow: 0px 1px 3px 1px rgba(0, 0, 0, 0.15);\n",
              "      filter: drop-shadow(0px 1px 2px rgba(0, 0, 0, 0.3));\n",
              "      fill: #FFFFFF;\n",
              "    }\n",
              "  </style>\n",
              "\n",
              "      <script>\n",
              "        const buttonEl =\n",
              "          document.querySelector('#df-f513b4d4-1171-46ff-b2d5-2e1ededc3096 button.colab-df-convert');\n",
              "        buttonEl.style.display =\n",
              "          google.colab.kernel.accessAllowed ? 'block' : 'none';\n",
              "\n",
              "        async function convertToInteractive(key) {\n",
              "          const element = document.querySelector('#df-f513b4d4-1171-46ff-b2d5-2e1ededc3096');\n",
              "          const dataTable =\n",
              "            await google.colab.kernel.invokeFunction('convertToInteractive',\n",
              "                                                     [key], {});\n",
              "          if (!dataTable) return;\n",
              "\n",
              "          const docLinkHtml = 'Like what you see? Visit the ' +\n",
              "            '<a target=\"_blank\" href=https://colab.research.google.com/notebooks/data_table.ipynb>data table notebook</a>'\n",
              "            + ' to learn more about interactive tables.';\n",
              "          element.innerHTML = '';\n",
              "          dataTable['output_type'] = 'display_data';\n",
              "          await google.colab.output.renderOutput(dataTable, element);\n",
              "          const docLink = document.createElement('div');\n",
              "          docLink.innerHTML = docLinkHtml;\n",
              "          element.appendChild(docLink);\n",
              "        }\n",
              "      </script>\n",
              "    </div>\n",
              "  </div>\n",
              "  "
            ],
            "text/plain": [
              "                          metric       std       max       min\n",
              "LogisticRegression      0.754911  0.035122  0.821918  0.709677\n",
              "SVM                     0.756279  0.059978  0.852941  0.644068\n",
              "KNeighborsClassifier    0.738221  0.066878  0.848485  0.610169\n",
              "RandomForestClassifier  0.741013  0.068492  0.828571  0.625000\n",
              "DecisionTreeClassifier  0.716575  0.073639  0.828571  0.608696\n",
              "XGBClassifier           0.765113  0.065787  0.873239  0.655172"
            ]
          },
          "metadata": {},
          "execution_count": 57
        }
      ]
    },
    {
      "cell_type": "markdown",
      "source": [
        "## Aperfeiçoar Modelo"
      ],
      "metadata": {
        "id": "7W9jcqTFk8mP"
      }
    },
    {
      "cell_type": "code",
      "source": [
        "#Random Search XGB\n",
        "%%time\n",
        "params = { 'max_depth': [3,6,10],\n",
        "           'learning_rate': [0.01, 0.05, 0.1],\n",
        "           'n_estimators': [100, 500, 1000]}\n",
        "\n",
        "model_XGB = XGBClassifier()\n",
        "clf = RandomizedSearchCV(estimator=model_XGB, \n",
        "                   param_distributions=params,\n",
        "                   scoring='f1',\n",
        "                   verbose=1,\n",
        "                   n_iter=10,\n",
        "                   cv=10,\n",
        "                   refit=True,\n",
        "                   random_state=42)\n",
        "clf.fit(X, Y)\n",
        "best_model = clf.best_estimator_\n",
        "\n",
        "print(\"Best parameters:\", clf.best_params_)\n",
        "print(\"Biggest F1: \", clf.best_score_)"
      ],
      "metadata": {
        "colab": {
          "base_uri": "https://localhost:8080/"
        },
        "id": "5OcPhX2uxOQU",
        "outputId": "9cf3956a-d336-404f-9754-b1f0293db545"
      },
      "execution_count": null,
      "outputs": [
        {
          "output_type": "stream",
          "name": "stdout",
          "text": [
            "Fitting 10 folds for each of 10 candidates, totalling 100 fits\n",
            "Best parameters: {'n_estimators': 1000, 'max_depth': 3, 'learning_rate': 0.05}\n",
            "Biggest F1:  0.7701805627514752\n",
            "CPU times: user 1min 13s, sys: 987 ms, total: 1min 14s\n",
            "Wall time: 1min 14s\n"
          ]
        }
      ]
    },
    {
      "cell_type": "code",
      "source": [
        "#Importância das features\n",
        "one_hot = full_pipeline.named_steps[\"cat_num_pipe\"].named_transformers_[\"cat_pipeline\"].named_steps[\"one_hot\"].categories_\n",
        "one_hot = [e for v in one_hot for e in v]\n",
        "features = one_hot + num_atribs\n",
        "\n",
        "features_importance = sorted(zip(best_model.feature_importances_, features), reverse=True)\n",
        "features_importance"
      ],
      "metadata": {
        "colab": {
          "base_uri": "https://localhost:8080/"
        },
        "id": "w_D2GpYsiMQJ",
        "outputId": "e9afc79b-0718-4c4c-c4e6-a4d5b941cc82"
      },
      "execution_count": null,
      "outputs": [
        {
          "output_type": "execute_result",
          "data": {
            "text/plain": [
              "[(0.25372717, 'female'),\n",
              " (0.21046942, 'Pclass'),\n",
              " (0.12437652, 'NoInfo'),\n",
              " (0.04720184, 'SibSp'),\n",
              " (0.04142612, 'Family_Size'),\n",
              " (0.038544517, 'E'),\n",
              " (0.03696449, 'S'),\n",
              " (0.03258166, 'MaisVelhos'),\n",
              " (0.029689021, 'B'),\n",
              " (0.024621109, 'Jov'),\n",
              " (0.022122014, 'Age'),\n",
              " (0.021886814, 'LogFare'),\n",
              " (0.021165878, 'BB'),\n",
              " (0.020560322, 'Adul'),\n",
              " (0.012943901, 'A'),\n",
              " (0.011423024, 'ComParentes'),\n",
              " (0.010753304, 'C'),\n",
              " (0.00944873, 'Parch'),\n",
              " (0.009188959, 'C'),\n",
              " (0.007961524, 'D'),\n",
              " (0.007678591, 'Q'),\n",
              " (0.005265045, 'Cri'),\n",
              " (0.0, 'male'),\n",
              " (0.0, 'T'),\n",
              " (0.0, 'SemParentes'),\n",
              " (0.0, 'G'),\n",
              " (0.0, 'F')]"
            ]
          },
          "metadata": {},
          "execution_count": 59
        }
      ]
    },
    {
      "cell_type": "code",
      "source": [
        "#XGB Aprimorado na comparação\n",
        "nome = \"XGBClassifier Search\"\n",
        "scores = cross_val_score(best_model, X, Y, scoring=\"f1\", cv=10)\n",
        "scores_agg = display_scores(scores)\n",
        "results[nome] = scores_agg"
      ],
      "metadata": {
        "colab": {
          "base_uri": "https://localhost:8080/"
        },
        "id": "JNBzJvZ_-SqU",
        "outputId": "d43fb914-c6e9-43fa-894a-440dfa0157ec"
      },
      "execution_count": null,
      "outputs": [
        {
          "output_type": "stream",
          "name": "stdout",
          "text": [
            "Scores: [0.76923077 0.81818182 0.63333333 0.82191781 0.8358209  0.72413793\n",
            " 0.77419355 0.74193548 0.86956522 0.7761194 ]\n",
            "Mean: 0.7764436208156413\n",
            "Standard deviation: 0.06361738409668824\n"
          ]
        }
      ]
    },
    {
      "cell_type": "code",
      "source": [
        "pd.DataFrame(results, index=[\"metric\", \"std\", \"max\", \"min\"]).transpose()"
      ],
      "metadata": {
        "colab": {
          "base_uri": "https://localhost:8080/",
          "height": 269
        },
        "id": "CDxUvOf1_D--",
        "outputId": "95165db8-38ab-4ee8-b86d-adfb2ac37191"
      },
      "execution_count": null,
      "outputs": [
        {
          "output_type": "execute_result",
          "data": {
            "text/html": [
              "\n",
              "  <div id=\"df-8a97eae4-16f2-48e4-b6b5-06343774af96\">\n",
              "    <div class=\"colab-df-container\">\n",
              "      <div>\n",
              "<style scoped>\n",
              "    .dataframe tbody tr th:only-of-type {\n",
              "        vertical-align: middle;\n",
              "    }\n",
              "\n",
              "    .dataframe tbody tr th {\n",
              "        vertical-align: top;\n",
              "    }\n",
              "\n",
              "    .dataframe thead th {\n",
              "        text-align: right;\n",
              "    }\n",
              "</style>\n",
              "<table border=\"1\" class=\"dataframe\">\n",
              "  <thead>\n",
              "    <tr style=\"text-align: right;\">\n",
              "      <th></th>\n",
              "      <th>metric</th>\n",
              "      <th>std</th>\n",
              "      <th>max</th>\n",
              "      <th>min</th>\n",
              "    </tr>\n",
              "  </thead>\n",
              "  <tbody>\n",
              "    <tr>\n",
              "      <th>LogisticRegression</th>\n",
              "      <td>0.770178</td>\n",
              "      <td>0.050712</td>\n",
              "      <td>0.845070</td>\n",
              "      <td>0.677419</td>\n",
              "    </tr>\n",
              "    <tr>\n",
              "      <th>SVM</th>\n",
              "      <td>0.770100</td>\n",
              "      <td>0.063953</td>\n",
              "      <td>0.852941</td>\n",
              "      <td>0.666667</td>\n",
              "    </tr>\n",
              "    <tr>\n",
              "      <th>KNeighborsClassifier</th>\n",
              "      <td>0.752440</td>\n",
              "      <td>0.065326</td>\n",
              "      <td>0.835821</td>\n",
              "      <td>0.590164</td>\n",
              "    </tr>\n",
              "    <tr>\n",
              "      <th>RandomForestClassifier</th>\n",
              "      <td>0.739731</td>\n",
              "      <td>0.066898</td>\n",
              "      <td>0.811594</td>\n",
              "      <td>0.622951</td>\n",
              "    </tr>\n",
              "    <tr>\n",
              "      <th>DecisionTreeClassifier</th>\n",
              "      <td>0.711850</td>\n",
              "      <td>0.047231</td>\n",
              "      <td>0.771429</td>\n",
              "      <td>0.637681</td>\n",
              "    </tr>\n",
              "    <tr>\n",
              "      <th>XGBClassifier</th>\n",
              "      <td>0.771627</td>\n",
              "      <td>0.062350</td>\n",
              "      <td>0.873239</td>\n",
              "      <td>0.644068</td>\n",
              "    </tr>\n",
              "    <tr>\n",
              "      <th>XGBClassifier Search</th>\n",
              "      <td>0.776444</td>\n",
              "      <td>0.063617</td>\n",
              "      <td>0.869565</td>\n",
              "      <td>0.633333</td>\n",
              "    </tr>\n",
              "  </tbody>\n",
              "</table>\n",
              "</div>\n",
              "      <button class=\"colab-df-convert\" onclick=\"convertToInteractive('df-8a97eae4-16f2-48e4-b6b5-06343774af96')\"\n",
              "              title=\"Convert this dataframe to an interactive table.\"\n",
              "              style=\"display:none;\">\n",
              "        \n",
              "  <svg xmlns=\"http://www.w3.org/2000/svg\" height=\"24px\"viewBox=\"0 0 24 24\"\n",
              "       width=\"24px\">\n",
              "    <path d=\"M0 0h24v24H0V0z\" fill=\"none\"/>\n",
              "    <path d=\"M18.56 5.44l.94 2.06.94-2.06 2.06-.94-2.06-.94-.94-2.06-.94 2.06-2.06.94zm-11 1L8.5 8.5l.94-2.06 2.06-.94-2.06-.94L8.5 2.5l-.94 2.06-2.06.94zm10 10l.94 2.06.94-2.06 2.06-.94-2.06-.94-.94-2.06-.94 2.06-2.06.94z\"/><path d=\"M17.41 7.96l-1.37-1.37c-.4-.4-.92-.59-1.43-.59-.52 0-1.04.2-1.43.59L10.3 9.45l-7.72 7.72c-.78.78-.78 2.05 0 2.83L4 21.41c.39.39.9.59 1.41.59.51 0 1.02-.2 1.41-.59l7.78-7.78 2.81-2.81c.8-.78.8-2.07 0-2.86zM5.41 20L4 18.59l7.72-7.72 1.47 1.35L5.41 20z\"/>\n",
              "  </svg>\n",
              "      </button>\n",
              "      \n",
              "  <style>\n",
              "    .colab-df-container {\n",
              "      display:flex;\n",
              "      flex-wrap:wrap;\n",
              "      gap: 12px;\n",
              "    }\n",
              "\n",
              "    .colab-df-convert {\n",
              "      background-color: #E8F0FE;\n",
              "      border: none;\n",
              "      border-radius: 50%;\n",
              "      cursor: pointer;\n",
              "      display: none;\n",
              "      fill: #1967D2;\n",
              "      height: 32px;\n",
              "      padding: 0 0 0 0;\n",
              "      width: 32px;\n",
              "    }\n",
              "\n",
              "    .colab-df-convert:hover {\n",
              "      background-color: #E2EBFA;\n",
              "      box-shadow: 0px 1px 2px rgba(60, 64, 67, 0.3), 0px 1px 3px 1px rgba(60, 64, 67, 0.15);\n",
              "      fill: #174EA6;\n",
              "    }\n",
              "\n",
              "    [theme=dark] .colab-df-convert {\n",
              "      background-color: #3B4455;\n",
              "      fill: #D2E3FC;\n",
              "    }\n",
              "\n",
              "    [theme=dark] .colab-df-convert:hover {\n",
              "      background-color: #434B5C;\n",
              "      box-shadow: 0px 1px 3px 1px rgba(0, 0, 0, 0.15);\n",
              "      filter: drop-shadow(0px 1px 2px rgba(0, 0, 0, 0.3));\n",
              "      fill: #FFFFFF;\n",
              "    }\n",
              "  </style>\n",
              "\n",
              "      <script>\n",
              "        const buttonEl =\n",
              "          document.querySelector('#df-8a97eae4-16f2-48e4-b6b5-06343774af96 button.colab-df-convert');\n",
              "        buttonEl.style.display =\n",
              "          google.colab.kernel.accessAllowed ? 'block' : 'none';\n",
              "\n",
              "        async function convertToInteractive(key) {\n",
              "          const element = document.querySelector('#df-8a97eae4-16f2-48e4-b6b5-06343774af96');\n",
              "          const dataTable =\n",
              "            await google.colab.kernel.invokeFunction('convertToInteractive',\n",
              "                                                     [key], {});\n",
              "          if (!dataTable) return;\n",
              "\n",
              "          const docLinkHtml = 'Like what you see? Visit the ' +\n",
              "            '<a target=\"_blank\" href=https://colab.research.google.com/notebooks/data_table.ipynb>data table notebook</a>'\n",
              "            + ' to learn more about interactive tables.';\n",
              "          element.innerHTML = '';\n",
              "          dataTable['output_type'] = 'display_data';\n",
              "          await google.colab.output.renderOutput(dataTable, element);\n",
              "          const docLink = document.createElement('div');\n",
              "          docLink.innerHTML = docLinkHtml;\n",
              "          element.appendChild(docLink);\n",
              "        }\n",
              "      </script>\n",
              "    </div>\n",
              "  </div>\n",
              "  "
            ],
            "text/plain": [
              "                          metric       std       max       min\n",
              "LogisticRegression      0.770178  0.050712  0.845070  0.677419\n",
              "SVM                     0.770100  0.063953  0.852941  0.666667\n",
              "KNeighborsClassifier    0.752440  0.065326  0.835821  0.590164\n",
              "RandomForestClassifier  0.739731  0.066898  0.811594  0.622951\n",
              "DecisionTreeClassifier  0.711850  0.047231  0.771429  0.637681\n",
              "XGBClassifier           0.771627  0.062350  0.873239  0.644068\n",
              "XGBClassifier Search    0.776444  0.063617  0.869565  0.633333"
            ]
          },
          "metadata": {},
          "execution_count": 41
        }
      ]
    },
    {
      "cell_type": "markdown",
      "source": [
        "## Apresentar Solução"
      ],
      "metadata": {
        "id": "PEiT5EzUk_rQ"
      }
    },
    {
      "cell_type": "markdown",
      "source": [
        "---\n",
        "**FEATURES ADICIONADAS**\n",
        "*   ['Title', 'Deck', 'Family_Size', 'LogFare', 'Age_cat', 'SemParentes']\n",
        "\n",
        "---\n",
        "**IMPORTANCIA FEATURES**\n",
        "*   Sexo é realmente mais influente. Encapsulado no Título.\n",
        "*   Classe do bilhete importa.\n",
        "*   Deck, Family Size,  parece importar.\n",
        "\n",
        "---\n",
        "**MODELOS**\n",
        "*   XGBoost melhor modelo, seguido pelo LogisticRegression.\n",
        "*   XGBoost aprimorado com RandomSearch. Melhores Parâmetros = ({'n_estimators': 100, 'max_depth': 6, 'learning_rate': 0.05})\n",
        "*   Comparação entre médias de f1-score. Cross-validation com 10 folds.  \n",
        "\n",
        "---\n",
        "**SUBMISSÃO**\n",
        "*   Accuracy public = 0.77511\n",
        "*   Rank = 7783\n",
        "\n",
        "---\n",
        "**POSSÍVEIS MELHORIAS**\n",
        "*   Mais buscas de parâmetros.\n",
        "*   Limpar features.\n",
        "*   Expandir Título.\n",
        "*   Buscar prefixos no Ticket.\n",
        "\n"
      ],
      "metadata": {
        "id": "Smjo8X7uQP0v"
      }
    },
    {
      "cell_type": "code",
      "source": [
        "test_pipe_df = test_df_kaggle.copy()\n",
        "#Aplicar Pipeline - Transform\n",
        "X_test = full_pipeline.transform(test_pipe_df)\n",
        "Y_pred = clf.predict(X_test)"
      ],
      "metadata": {
        "id": "HsTW4dft2YKR"
      },
      "execution_count": null,
      "outputs": []
    },
    {
      "cell_type": "code",
      "source": [
        "submission = pd.DataFrame([test_pipe_df.PassengerId, Y_pred], index=[\"PassengerId\",\"Survived\"]).transpose()\n",
        "submission.to_csv(\"sub.csv\", index=False)"
      ],
      "metadata": {
        "id": "ndMubYeY2i5R"
      },
      "execution_count": null,
      "outputs": []
    },
    {
      "cell_type": "code",
      "source": [
        ""
      ],
      "metadata": {
        "id": "gMtWS4XEdtYz"
      },
      "execution_count": null,
      "outputs": []
    }
  ]
}